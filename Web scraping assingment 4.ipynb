{
 "cells": [
  {
   "cell_type": "code",
   "execution_count": 100,
   "id": "688f84e5",
   "metadata": {},
   "outputs": [],
   "source": [
    "import selenium\n",
    "import pandas as pd\n",
    "from selenium import webdriver\n",
    "import warnings\n",
    "warnings.filterwarnings('ignore')\n",
    "from selenium.webdriver.common.by import By\n",
    "import time\n",
    "from bs4 import BeautifulSoup\n",
    "import requests\n",
    "from selenium.common.exceptions import StaleElementReferenceException, NoSuchElementException"
   ]
  },
  {
   "cell_type": "markdown",
   "id": "664b3ac2",
   "metadata": {},
   "source": [
    "#  GDP ofIndia fromstatisticstime.com"
   ]
  },
  {
   "cell_type": "code",
   "execution_count": 269,
   "id": "4657856a",
   "metadata": {},
   "outputs": [],
   "source": [
    "driver=webdriver.Chrome(r'C:\\Users\\prks\\Downloads\\chromedriver.exe')"
   ]
  },
  {
   "cell_type": "code",
   "execution_count": 271,
   "id": "d40a9035",
   "metadata": {},
   "outputs": [],
   "source": [
    "driver.get('http://statisticstimes.com/')"
   ]
  },
  {
   "cell_type": "code",
   "execution_count": 235,
   "id": "b8025acb",
   "metadata": {},
   "outputs": [],
   "source": [
    "eco=driver.find_element(By.XPATH,'/html/body/div[2]/div[1]/div[2]/div[2]/button')\n",
    "eco.click()"
   ]
  },
  {
   "cell_type": "code",
   "execution_count": 246,
   "id": "f2ec53de",
   "metadata": {},
   "outputs": [],
   "source": [
    "rank=[]\n",
    "\n",
    "ran_tag=driver.find_elements(By.XPATH,'//table[@id=\"table_id\"]/tbody/tr/td[1]')\n",
    "for i in ran_tag:\n",
    "    run=i.text\n",
    "    rank.append(run)"
   ]
  },
  {
   "cell_type": "code",
   "execution_count": 248,
   "id": "552899e8",
   "metadata": {},
   "outputs": [
    {
     "data": {
      "text/plain": [
       "33"
      ]
     },
     "execution_count": 248,
     "metadata": {},
     "output_type": "execute_result"
    }
   ],
   "source": [
    "len(rank)"
   ]
  },
  {
   "cell_type": "code",
   "execution_count": 249,
   "id": "fe2c24a3",
   "metadata": {},
   "outputs": [],
   "source": [
    "state=[]\n",
    "\n",
    "st_tag=driver.find_elements(By.XPATH,'//table[@id=\"table_id\"]/tbody/tr/td[2]')\n",
    "for i in st_tag:\n",
    "    stet=i.text\n",
    "    state.append(stet)"
   ]
  },
  {
   "cell_type": "code",
   "execution_count": 252,
   "id": "cf2b6ac6",
   "metadata": {},
   "outputs": [
    {
     "data": {
      "text/plain": [
       "33"
      ]
     },
     "execution_count": 252,
     "metadata": {},
     "output_type": "execute_result"
    }
   ],
   "source": [
    "len(state)"
   ]
  },
  {
   "cell_type": "code",
   "execution_count": 253,
   "id": "97a5b7ae",
   "metadata": {},
   "outputs": [],
   "source": [
    "gsdp_1819=[]\n",
    "gsp_tag=driver.find_elements(By.XPATH,'//table[@id=\"table_id\"]/tbody/tr/td[4]')\n",
    "for i in gsp_tag:\n",
    "    gdp=i.text\n",
    "    gsdp_1819.append(gdp)"
   ]
  },
  {
   "cell_type": "code",
   "execution_count": 254,
   "id": "c50edc06",
   "metadata": {},
   "outputs": [
    {
     "data": {
      "text/plain": [
       "33"
      ]
     },
     "execution_count": 254,
     "metadata": {},
     "output_type": "execute_result"
    }
   ],
   "source": [
    "len(gsdp_1819)"
   ]
  },
  {
   "cell_type": "code",
   "execution_count": 238,
   "id": "c9469099",
   "metadata": {},
   "outputs": [],
   "source": [
    "gdp_2019=[]\n",
    "gsd_tag=driver.find_elements(By.XPATH,'//table[@id=\"table_id\"]/tbody/tr/td[6]')\n",
    "for i in gsd_tag:\n",
    "    ssd=i.text\n",
    "    gdp_2019.append(ssd)"
   ]
  },
  {
   "cell_type": "code",
   "execution_count": 261,
   "id": "860a1e8f",
   "metadata": {
    "scrolled": false
   },
   "outputs": [
    {
     "data": {
      "text/plain": [
       "33"
      ]
     },
     "execution_count": 261,
     "metadata": {},
     "output_type": "execute_result"
    }
   ],
   "source": [
    "len(gdp_2019)"
   ]
  },
  {
   "cell_type": "code",
   "execution_count": 256,
   "id": "d90c8682",
   "metadata": {},
   "outputs": [],
   "source": [
    "gsdp_1920=[]\n",
    "gsd_tag=driver.find_elements(By.XPATH,'//table[@id=\"table_id\"]/tbody/tr/td[3]')\n",
    "for i in gsd_tag:\n",
    "    ssd=i.text\n",
    "    gsdp_1920.append(ssd)"
   ]
  },
  {
   "cell_type": "code",
   "execution_count": 257,
   "id": "618161b2",
   "metadata": {},
   "outputs": [
    {
     "data": {
      "text/plain": [
       "33"
      ]
     },
     "execution_count": 257,
     "metadata": {},
     "output_type": "execute_result"
    }
   ],
   "source": [
    "len(gsdp_1920)"
   ]
  },
  {
   "cell_type": "code",
   "execution_count": 258,
   "id": "6875619c",
   "metadata": {},
   "outputs": [],
   "source": [
    "share_1819=[]\n",
    "gsd_tag=driver.find_elements(By.XPATH,'//table[@id=\"table_id\"]/tbody/tr/td[5]')\n",
    "for i in gsd_tag:\n",
    "    ssd=i.text\n",
    "    share_1819.append(ssd)"
   ]
  },
  {
   "cell_type": "code",
   "execution_count": 259,
   "id": "d844eed8",
   "metadata": {},
   "outputs": [
    {
     "data": {
      "text/plain": [
       "33"
      ]
     },
     "execution_count": 259,
     "metadata": {},
     "output_type": "execute_result"
    }
   ],
   "source": [
    "len(share_1819)"
   ]
  },
  {
   "cell_type": "code",
   "execution_count": 262,
   "id": "4f8e500e",
   "metadata": {},
   "outputs": [
    {
     "data": {
      "text/html": [
       "<div>\n",
       "<style scoped>\n",
       "    .dataframe tbody tr th:only-of-type {\n",
       "        vertical-align: middle;\n",
       "    }\n",
       "\n",
       "    .dataframe tbody tr th {\n",
       "        vertical-align: top;\n",
       "    }\n",
       "\n",
       "    .dataframe thead th {\n",
       "        text-align: right;\n",
       "    }\n",
       "</style>\n",
       "<table border=\"1\" class=\"dataframe\">\n",
       "  <thead>\n",
       "    <tr style=\"text-align: right;\">\n",
       "      <th></th>\n",
       "      <th>Rank</th>\n",
       "      <th>State</th>\n",
       "      <th>GSDP(18-19)- at current prices</th>\n",
       "      <th>GSDP(19-20)- at current prices</th>\n",
       "      <th>Share(18-19)</th>\n",
       "      <th>GDP($ billion)</th>\n",
       "    </tr>\n",
       "  </thead>\n",
       "  <tbody>\n",
       "    <tr>\n",
       "      <th>0</th>\n",
       "      <td>1</td>\n",
       "      <td>Maharashtra</td>\n",
       "      <td>2,632,792</td>\n",
       "      <td>-</td>\n",
       "      <td>13.94%</td>\n",
       "      <td>399.921</td>\n",
       "    </tr>\n",
       "    <tr>\n",
       "      <th>1</th>\n",
       "      <td>2</td>\n",
       "      <td>Tamil Nadu</td>\n",
       "      <td>1,630,208</td>\n",
       "      <td>1,845,853</td>\n",
       "      <td>8.63%</td>\n",
       "      <td>247.629</td>\n",
       "    </tr>\n",
       "    <tr>\n",
       "      <th>2</th>\n",
       "      <td>3</td>\n",
       "      <td>Uttar Pradesh</td>\n",
       "      <td>1,584,764</td>\n",
       "      <td>1,687,818</td>\n",
       "      <td>8.39%</td>\n",
       "      <td>240.726</td>\n",
       "    </tr>\n",
       "    <tr>\n",
       "      <th>3</th>\n",
       "      <td>4</td>\n",
       "      <td>Gujarat</td>\n",
       "      <td>1,502,899</td>\n",
       "      <td>-</td>\n",
       "      <td>7.96%</td>\n",
       "      <td>228.290</td>\n",
       "    </tr>\n",
       "    <tr>\n",
       "      <th>4</th>\n",
       "      <td>5</td>\n",
       "      <td>Karnataka</td>\n",
       "      <td>1,493,127</td>\n",
       "      <td>1,631,977</td>\n",
       "      <td>7.91%</td>\n",
       "      <td>226.806</td>\n",
       "    </tr>\n",
       "    <tr>\n",
       "      <th>5</th>\n",
       "      <td>6</td>\n",
       "      <td>West Bengal</td>\n",
       "      <td>1,089,898</td>\n",
       "      <td>1,253,832</td>\n",
       "      <td>5.77%</td>\n",
       "      <td>165.556</td>\n",
       "    </tr>\n",
       "    <tr>\n",
       "      <th>6</th>\n",
       "      <td>7</td>\n",
       "      <td>Rajasthan</td>\n",
       "      <td>942,586</td>\n",
       "      <td>1,020,989</td>\n",
       "      <td>4.99%</td>\n",
       "      <td>143.179</td>\n",
       "    </tr>\n",
       "    <tr>\n",
       "      <th>7</th>\n",
       "      <td>8</td>\n",
       "      <td>Andhra Pradesh</td>\n",
       "      <td>862,957</td>\n",
       "      <td>972,782</td>\n",
       "      <td>4.57%</td>\n",
       "      <td>131.083</td>\n",
       "    </tr>\n",
       "    <tr>\n",
       "      <th>8</th>\n",
       "      <td>9</td>\n",
       "      <td>Telangana</td>\n",
       "      <td>861,031</td>\n",
       "      <td>969,604</td>\n",
       "      <td>4.56%</td>\n",
       "      <td>130.791</td>\n",
       "    </tr>\n",
       "    <tr>\n",
       "      <th>9</th>\n",
       "      <td>10</td>\n",
       "      <td>Madhya Pradesh</td>\n",
       "      <td>809,592</td>\n",
       "      <td>906,672</td>\n",
       "      <td>4.29%</td>\n",
       "      <td>122.977</td>\n",
       "    </tr>\n",
       "    <tr>\n",
       "      <th>10</th>\n",
       "      <td>11</td>\n",
       "      <td>Kerala</td>\n",
       "      <td>781,653</td>\n",
       "      <td>-</td>\n",
       "      <td>4.14%</td>\n",
       "      <td>118.733</td>\n",
       "    </tr>\n",
       "    <tr>\n",
       "      <th>11</th>\n",
       "      <td>12</td>\n",
       "      <td>Delhi</td>\n",
       "      <td>774,870</td>\n",
       "      <td>856,112</td>\n",
       "      <td>4.10%</td>\n",
       "      <td>117.703</td>\n",
       "    </tr>\n",
       "    <tr>\n",
       "      <th>12</th>\n",
       "      <td>13</td>\n",
       "      <td>Haryana</td>\n",
       "      <td>734,163</td>\n",
       "      <td>831,610</td>\n",
       "      <td>3.89%</td>\n",
       "      <td>111.519</td>\n",
       "    </tr>\n",
       "    <tr>\n",
       "      <th>13</th>\n",
       "      <td>14</td>\n",
       "      <td>Bihar</td>\n",
       "      <td>530,363</td>\n",
       "      <td>611,804</td>\n",
       "      <td>2.81%</td>\n",
       "      <td>80.562</td>\n",
       "    </tr>\n",
       "    <tr>\n",
       "      <th>14</th>\n",
       "      <td>15</td>\n",
       "      <td>Punjab</td>\n",
       "      <td>526,376</td>\n",
       "      <td>574,760</td>\n",
       "      <td>2.79%</td>\n",
       "      <td>79.957</td>\n",
       "    </tr>\n",
       "    <tr>\n",
       "      <th>15</th>\n",
       "      <td>16</td>\n",
       "      <td>Odisha</td>\n",
       "      <td>487,805</td>\n",
       "      <td>521,275</td>\n",
       "      <td>2.58%</td>\n",
       "      <td>74.098</td>\n",
       "    </tr>\n",
       "    <tr>\n",
       "      <th>16</th>\n",
       "      <td>17</td>\n",
       "      <td>Assam</td>\n",
       "      <td>315,881</td>\n",
       "      <td>-</td>\n",
       "      <td>1.67%</td>\n",
       "      <td>47.982</td>\n",
       "    </tr>\n",
       "    <tr>\n",
       "      <th>17</th>\n",
       "      <td>18</td>\n",
       "      <td>Chhattisgarh</td>\n",
       "      <td>304,063</td>\n",
       "      <td>329,180</td>\n",
       "      <td>1.61%</td>\n",
       "      <td>46.187</td>\n",
       "    </tr>\n",
       "    <tr>\n",
       "      <th>18</th>\n",
       "      <td>19</td>\n",
       "      <td>Jharkhand</td>\n",
       "      <td>297,204</td>\n",
       "      <td>328,598</td>\n",
       "      <td>1.57%</td>\n",
       "      <td>45.145</td>\n",
       "    </tr>\n",
       "    <tr>\n",
       "      <th>19</th>\n",
       "      <td>20</td>\n",
       "      <td>Uttarakhand</td>\n",
       "      <td>245,895</td>\n",
       "      <td>-</td>\n",
       "      <td>1.30%</td>\n",
       "      <td>37.351</td>\n",
       "    </tr>\n",
       "    <tr>\n",
       "      <th>20</th>\n",
       "      <td>21</td>\n",
       "      <td>Jammu &amp; Kashmir</td>\n",
       "      <td>155,956</td>\n",
       "      <td>-</td>\n",
       "      <td>0.83%</td>\n",
       "      <td>23.690</td>\n",
       "    </tr>\n",
       "    <tr>\n",
       "      <th>21</th>\n",
       "      <td>22</td>\n",
       "      <td>Himachal Pradesh</td>\n",
       "      <td>153,845</td>\n",
       "      <td>165,472</td>\n",
       "      <td>0.81%</td>\n",
       "      <td>23.369</td>\n",
       "    </tr>\n",
       "    <tr>\n",
       "      <th>22</th>\n",
       "      <td>23</td>\n",
       "      <td>Goa</td>\n",
       "      <td>73,170</td>\n",
       "      <td>80,449</td>\n",
       "      <td>0.39%</td>\n",
       "      <td>11.115</td>\n",
       "    </tr>\n",
       "    <tr>\n",
       "      <th>23</th>\n",
       "      <td>24</td>\n",
       "      <td>Tripura</td>\n",
       "      <td>49,845</td>\n",
       "      <td>55,984</td>\n",
       "      <td>0.26%</td>\n",
       "      <td>7.571</td>\n",
       "    </tr>\n",
       "    <tr>\n",
       "      <th>24</th>\n",
       "      <td>25</td>\n",
       "      <td>Chandigarh</td>\n",
       "      <td>42,114</td>\n",
       "      <td>-</td>\n",
       "      <td>0.22%</td>\n",
       "      <td>6.397</td>\n",
       "    </tr>\n",
       "    <tr>\n",
       "      <th>25</th>\n",
       "      <td>26</td>\n",
       "      <td>Puducherry</td>\n",
       "      <td>34,433</td>\n",
       "      <td>38,253</td>\n",
       "      <td>0.18%</td>\n",
       "      <td>5.230</td>\n",
       "    </tr>\n",
       "    <tr>\n",
       "      <th>26</th>\n",
       "      <td>27</td>\n",
       "      <td>Meghalaya</td>\n",
       "      <td>33,481</td>\n",
       "      <td>36,572</td>\n",
       "      <td>0.18%</td>\n",
       "      <td>5.086</td>\n",
       "    </tr>\n",
       "    <tr>\n",
       "      <th>27</th>\n",
       "      <td>28</td>\n",
       "      <td>Sikkim</td>\n",
       "      <td>28,723</td>\n",
       "      <td>32,496</td>\n",
       "      <td>0.15%</td>\n",
       "      <td>4.363</td>\n",
       "    </tr>\n",
       "    <tr>\n",
       "      <th>28</th>\n",
       "      <td>29</td>\n",
       "      <td>Manipur</td>\n",
       "      <td>27,870</td>\n",
       "      <td>31,790</td>\n",
       "      <td>0.15%</td>\n",
       "      <td>4.233</td>\n",
       "    </tr>\n",
       "    <tr>\n",
       "      <th>29</th>\n",
       "      <td>30</td>\n",
       "      <td>Nagaland</td>\n",
       "      <td>27,283</td>\n",
       "      <td>-</td>\n",
       "      <td>0.14%</td>\n",
       "      <td>4.144</td>\n",
       "    </tr>\n",
       "    <tr>\n",
       "      <th>30</th>\n",
       "      <td>31</td>\n",
       "      <td>Arunachal Pradesh</td>\n",
       "      <td>24,603</td>\n",
       "      <td>-</td>\n",
       "      <td>0.13%</td>\n",
       "      <td>3.737</td>\n",
       "    </tr>\n",
       "    <tr>\n",
       "      <th>31</th>\n",
       "      <td>32</td>\n",
       "      <td>Mizoram</td>\n",
       "      <td>22,287</td>\n",
       "      <td>26,503</td>\n",
       "      <td>0.12%</td>\n",
       "      <td>3.385</td>\n",
       "    </tr>\n",
       "    <tr>\n",
       "      <th>32</th>\n",
       "      <td>33</td>\n",
       "      <td>Andaman &amp; Nicobar Islands</td>\n",
       "      <td>-</td>\n",
       "      <td>-</td>\n",
       "      <td>-</td>\n",
       "      <td>-</td>\n",
       "    </tr>\n",
       "  </tbody>\n",
       "</table>\n",
       "</div>"
      ],
      "text/plain": [
       "   Rank                      State GSDP(18-19)- at current prices  \\\n",
       "0     1                Maharashtra                      2,632,792   \n",
       "1     2                 Tamil Nadu                      1,630,208   \n",
       "2     3              Uttar Pradesh                      1,584,764   \n",
       "3     4                    Gujarat                      1,502,899   \n",
       "4     5                  Karnataka                      1,493,127   \n",
       "5     6                West Bengal                      1,089,898   \n",
       "6     7                  Rajasthan                        942,586   \n",
       "7     8             Andhra Pradesh                        862,957   \n",
       "8     9                  Telangana                        861,031   \n",
       "9    10             Madhya Pradesh                        809,592   \n",
       "10   11                     Kerala                        781,653   \n",
       "11   12                      Delhi                        774,870   \n",
       "12   13                    Haryana                        734,163   \n",
       "13   14                      Bihar                        530,363   \n",
       "14   15                     Punjab                        526,376   \n",
       "15   16                     Odisha                        487,805   \n",
       "16   17                      Assam                        315,881   \n",
       "17   18               Chhattisgarh                        304,063   \n",
       "18   19                  Jharkhand                        297,204   \n",
       "19   20                Uttarakhand                        245,895   \n",
       "20   21            Jammu & Kashmir                        155,956   \n",
       "21   22           Himachal Pradesh                        153,845   \n",
       "22   23                        Goa                         73,170   \n",
       "23   24                    Tripura                         49,845   \n",
       "24   25                 Chandigarh                         42,114   \n",
       "25   26                 Puducherry                         34,433   \n",
       "26   27                  Meghalaya                         33,481   \n",
       "27   28                     Sikkim                         28,723   \n",
       "28   29                    Manipur                         27,870   \n",
       "29   30                   Nagaland                         27,283   \n",
       "30   31          Arunachal Pradesh                         24,603   \n",
       "31   32                    Mizoram                         22,287   \n",
       "32   33  Andaman & Nicobar Islands                              -   \n",
       "\n",
       "   GSDP(19-20)- at current prices  Share(18-19)  GDP($ billion)  \n",
       "0                               -        13.94%         399.921  \n",
       "1                       1,845,853         8.63%         247.629  \n",
       "2                       1,687,818         8.39%         240.726  \n",
       "3                               -         7.96%         228.290  \n",
       "4                       1,631,977         7.91%         226.806  \n",
       "5                       1,253,832         5.77%         165.556  \n",
       "6                       1,020,989         4.99%         143.179  \n",
       "7                         972,782         4.57%         131.083  \n",
       "8                         969,604         4.56%         130.791  \n",
       "9                         906,672         4.29%         122.977  \n",
       "10                              -         4.14%         118.733  \n",
       "11                        856,112         4.10%         117.703  \n",
       "12                        831,610         3.89%         111.519  \n",
       "13                        611,804         2.81%          80.562  \n",
       "14                        574,760         2.79%          79.957  \n",
       "15                        521,275         2.58%          74.098  \n",
       "16                              -         1.67%          47.982  \n",
       "17                        329,180         1.61%          46.187  \n",
       "18                        328,598         1.57%          45.145  \n",
       "19                              -         1.30%          37.351  \n",
       "20                              -         0.83%          23.690  \n",
       "21                        165,472         0.81%          23.369  \n",
       "22                         80,449         0.39%          11.115  \n",
       "23                         55,984         0.26%           7.571  \n",
       "24                              -         0.22%           6.397  \n",
       "25                         38,253         0.18%           5.230  \n",
       "26                         36,572         0.18%           5.086  \n",
       "27                         32,496         0.15%           4.363  \n",
       "28                         31,790         0.15%           4.233  \n",
       "29                              -         0.14%           4.144  \n",
       "30                              -         0.13%           3.737  \n",
       "31                         26,503         0.12%           3.385  \n",
       "32                              -             -               -  "
      ]
     },
     "execution_count": 262,
     "metadata": {},
     "output_type": "execute_result"
    }
   ],
   "source": [
    "data=pd.DataFrame({'Rank':rank,'State':state,'GSDP(18-19)- at current prices':gsdp_1819,'GSDP(19-20)- at current prices':gsdp_1920,' Share(18-19)':share_1819,' GDP($ billion)':gdp_2019})\n",
    "data"
   ]
  },
  {
   "cell_type": "code",
   "execution_count": null,
   "id": "87dceafe",
   "metadata": {},
   "outputs": [],
   "source": []
  },
  {
   "cell_type": "markdown",
   "id": "e338be1d",
   "metadata": {},
   "source": [
    "#  trending repositories on Github.com"
   ]
  },
  {
   "cell_type": "code",
   "execution_count": 207,
   "id": "7a6bbec0",
   "metadata": {},
   "outputs": [],
   "source": [
    "driver=webdriver.Chrome(r'C:\\Users\\prks\\Downloads\\chromedriver.exe')"
   ]
  },
  {
   "cell_type": "code",
   "execution_count": 208,
   "id": "95be0a39",
   "metadata": {},
   "outputs": [],
   "source": [
    "driver.get('https://github.com/')"
   ]
  },
  {
   "cell_type": "code",
   "execution_count": 209,
   "id": "3b7fb72d",
   "metadata": {},
   "outputs": [],
   "source": [
    "trend=driver.find_element(By.XPATH,'/html/body/div[1]/div[1]/header/div/div[2]/div/nav/ul/li[3]/button')\n",
    "trend.click()"
   ]
  },
  {
   "cell_type": "code",
   "execution_count": 218,
   "id": "c237d562",
   "metadata": {},
   "outputs": [],
   "source": [
    "link=[]\n",
    "\n",
    "url=driver.find_elements(By.XPATH,'//h2[@class=\"h3 lh-condensed\"]')\n",
    "for i in url:\n",
    "    link.append(i.get_attribute(\"href\"))\n"
   ]
  },
  {
   "cell_type": "code",
   "execution_count": null,
   "id": "5f7a8f5d",
   "metadata": {},
   "outputs": [],
   "source": []
  },
  {
   "cell_type": "code",
   "execution_count": null,
   "id": "fd478636",
   "metadata": {},
   "outputs": [],
   "source": []
  },
  {
   "cell_type": "code",
   "execution_count": null,
   "id": "9f42a5bd",
   "metadata": {},
   "outputs": [],
   "source": []
  },
  {
   "cell_type": "code",
   "execution_count": null,
   "id": "5328b0b4",
   "metadata": {},
   "outputs": [],
   "source": []
  },
  {
   "cell_type": "code",
   "execution_count": 93,
   "id": "8d3e0dbd",
   "metadata": {},
   "outputs": [],
   "source": [
    "titel=[]\n",
    "time.sleep(5)\n",
    "try:\n",
    "    titel_tag=driver.find_elements(By.XPATH,'//span[@class=\"text-normal\"]')\n",
    "    for i in titel_tag:\n",
    "        tit=i.text.split('/')[0]\n",
    "        titel.append(tit)\n",
    "except NoSuchElementException:\n",
    "    titel.append('-')"
   ]
  },
  {
   "cell_type": "code",
   "execution_count": 94,
   "id": "b5c3ebe6",
   "metadata": {},
   "outputs": [
    {
     "data": {
      "text/plain": [
       "25"
      ]
     },
     "execution_count": 94,
     "metadata": {},
     "output_type": "execute_result"
    }
   ],
   "source": [
    "len(titel)"
   ]
  },
  {
   "cell_type": "code",
   "execution_count": 103,
   "id": "84d9851d",
   "metadata": {},
   "outputs": [],
   "source": [
    "desc=[]"
   ]
  },
  {
   "cell_type": "code",
   "execution_count": 104,
   "id": "29f7f01a",
   "metadata": {},
   "outputs": [],
   "source": [
    "try:\n",
    "    des_tag=driver.find_elements(By.XPATH,'//p[@class=\"col-9 color-fg-muted my-1 pr-4\"]')\n",
    "    for i in des_tag:\n",
    "        descri=i.text\n",
    "        desc.append(descri)\n",
    "except NoSuchElementException:\n",
    "    desc.append('-')"
   ]
  },
  {
   "cell_type": "code",
   "execution_count": 105,
   "id": "36e13bdc",
   "metadata": {},
   "outputs": [
    {
     "data": {
      "text/plain": [
       "24"
      ]
     },
     "execution_count": 105,
     "metadata": {},
     "output_type": "execute_result"
    }
   ],
   "source": [
    "len(desc)"
   ]
  },
  {
   "cell_type": "code",
   "execution_count": 147,
   "id": "77fb24ca",
   "metadata": {
    "scrolled": true
   },
   "outputs": [],
   "source": [
    "contributor = []\n",
    "\n",
    "try:\n",
    "    count_tag = driver.find_elements(By.XPATH, '//span[@class=\"d-inline-block mr-3\"]')\n",
    "    for i in count_tag:\n",
    "        contr = i.text\n",
    "        contributor.append(contr)\n",
    "except NoSuchElementException:\n",
    "    contributor.append('-')\n"
   ]
  },
  {
   "cell_type": "code",
   "execution_count": 149,
   "id": "404ddf43",
   "metadata": {
    "scrolled": true
   },
   "outputs": [
    {
     "data": {
      "text/plain": [
       "25"
      ]
     },
     "execution_count": 149,
     "metadata": {},
     "output_type": "execute_result"
    }
   ],
   "source": [
    "len(contributor)"
   ]
  },
  {
   "cell_type": "code",
   "execution_count": 113,
   "id": "98a30fdc",
   "metadata": {},
   "outputs": [],
   "source": [
    "langauge=[]\n",
    "try:\n",
    "    used_tag=driver.find_elements(By.XPATH,'//span[@class=\"d-inline-block ml-0 mr-3\"]')\n",
    "    for i in used_tag:\n",
    "        lung= i.text\n",
    "        langauge.append(lung)\n",
    "except NoSuchElementExeption:\n",
    "    langauge.append('-')"
   ]
  },
  {
   "cell_type": "code",
   "execution_count": 114,
   "id": "1f14b93e",
   "metadata": {},
   "outputs": [
    {
     "data": {
      "text/plain": [
       "24"
      ]
     },
     "execution_count": 114,
     "metadata": {},
     "output_type": "execute_result"
    }
   ],
   "source": [
    "len(langauge)"
   ]
  },
  {
   "cell_type": "code",
   "execution_count": null,
   "id": "d4447064",
   "metadata": {},
   "outputs": [],
   "source": []
  },
  {
   "cell_type": "markdown",
   "id": "d0f50078",
   "metadata": {},
   "source": [
    "# top 100 songs on billiboard.com"
   ]
  },
  {
   "cell_type": "code",
   "execution_count": 82,
   "id": "79bf5f68",
   "metadata": {},
   "outputs": [],
   "source": [
    "driver=webdriver.Chrome(r'C:\\Users\\prks\\Downloads\\chromedriver.exe')"
   ]
  },
  {
   "cell_type": "code",
   "execution_count": 83,
   "id": "b6b39fa0",
   "metadata": {},
   "outputs": [],
   "source": [
    "driver.get('https:/www.billboard.com/')"
   ]
  },
  {
   "cell_type": "code",
   "execution_count": 84,
   "id": "004c31c1",
   "metadata": {},
   "outputs": [
    {
     "ename": "NoSuchElementException",
     "evalue": "Message: no such element: Unable to locate element: {\"method\":\"xpath\",\"selector\":\"/html/body/div[3]/header/div/div[4]/div/div[1]/div[1]/button/svg\"}\n  (Session info: chrome=112.0.5615.87)\nStacktrace:\nBacktrace:\n\tGetHandleVerifier [0x00E8DCE3+50899]\n\t(No symbol) [0x00E1E111]\n\t(No symbol) [0x00D25588]\n\t(No symbol) [0x00D508F9]\n\t(No symbol) [0x00D50AFB]\n\t(No symbol) [0x00D7F902]\n\t(No symbol) [0x00D6B944]\n\t(No symbol) [0x00D7E01C]\n\t(No symbol) [0x00D6B6F6]\n\t(No symbol) [0x00D47708]\n\t(No symbol) [0x00D4886D]\n\tGetHandleVerifier [0x010F3EAE+2566302]\n\tGetHandleVerifier [0x011292B1+2784417]\n\tGetHandleVerifier [0x0112327C+2759788]\n\tGetHandleVerifier [0x00F25740+672048]\n\t(No symbol) [0x00E28872]\n\t(No symbol) [0x00E241C8]\n\t(No symbol) [0x00E242AB]\n\t(No symbol) [0x00E171B7]\n\tBaseThreadInitThunk [0x764200F9+25]\n\tRtlGetAppContainerNamedObjectPath [0x773B7BBE+286]\n\tRtlGetAppContainerNamedObjectPath [0x773B7B8E+238]\n",
     "output_type": "error",
     "traceback": [
      "\u001b[1;31m---------------------------------------------------------------------------\u001b[0m",
      "\u001b[1;31mNoSuchElementException\u001b[0m                    Traceback (most recent call last)",
      "Input \u001b[1;32mIn [84]\u001b[0m, in \u001b[0;36m<cell line: 1>\u001b[1;34m()\u001b[0m\n\u001b[1;32m----> 1\u001b[0m chart\u001b[38;5;241m=\u001b[39m\u001b[43mdriver\u001b[49m\u001b[38;5;241;43m.\u001b[39;49m\u001b[43mfind_element\u001b[49m\u001b[43m(\u001b[49m\u001b[43mBy\u001b[49m\u001b[38;5;241;43m.\u001b[39;49m\u001b[43mXPATH\u001b[49m\u001b[43m,\u001b[49m\u001b[38;5;124;43m'\u001b[39;49m\u001b[38;5;124;43m/html/body/div[3]/header/div/div[4]/div/div[1]/div[1]/button/svg\u001b[39;49m\u001b[38;5;124;43m'\u001b[39;49m\u001b[43m)\u001b[49m\n\u001b[0;32m      2\u001b[0m chart\u001b[38;5;241m.\u001b[39mclick()\n",
      "File \u001b[1;32m~\\Downloads\\anaconda\\lib\\site-packages\\selenium\\webdriver\\remote\\webdriver.py:831\u001b[0m, in \u001b[0;36mWebDriver.find_element\u001b[1;34m(self, by, value)\u001b[0m\n\u001b[0;32m    828\u001b[0m     by \u001b[38;5;241m=\u001b[39m By\u001b[38;5;241m.\u001b[39mCSS_SELECTOR\n\u001b[0;32m    829\u001b[0m     value \u001b[38;5;241m=\u001b[39m \u001b[38;5;124mf\u001b[39m\u001b[38;5;124m'\u001b[39m\u001b[38;5;124m[name=\u001b[39m\u001b[38;5;124m\"\u001b[39m\u001b[38;5;132;01m{\u001b[39;00mvalue\u001b[38;5;132;01m}\u001b[39;00m\u001b[38;5;124m\"\u001b[39m\u001b[38;5;124m]\u001b[39m\u001b[38;5;124m'\u001b[39m\n\u001b[1;32m--> 831\u001b[0m \u001b[38;5;28;01mreturn\u001b[39;00m \u001b[38;5;28;43mself\u001b[39;49m\u001b[38;5;241;43m.\u001b[39;49m\u001b[43mexecute\u001b[49m\u001b[43m(\u001b[49m\u001b[43mCommand\u001b[49m\u001b[38;5;241;43m.\u001b[39;49m\u001b[43mFIND_ELEMENT\u001b[49m\u001b[43m,\u001b[49m\u001b[43m \u001b[49m\u001b[43m{\u001b[49m\u001b[38;5;124;43m\"\u001b[39;49m\u001b[38;5;124;43musing\u001b[39;49m\u001b[38;5;124;43m\"\u001b[39;49m\u001b[43m:\u001b[49m\u001b[43m \u001b[49m\u001b[43mby\u001b[49m\u001b[43m,\u001b[49m\u001b[43m \u001b[49m\u001b[38;5;124;43m\"\u001b[39;49m\u001b[38;5;124;43mvalue\u001b[39;49m\u001b[38;5;124;43m\"\u001b[39;49m\u001b[43m:\u001b[49m\u001b[43m \u001b[49m\u001b[43mvalue\u001b[49m\u001b[43m}\u001b[49m\u001b[43m)\u001b[49m[\u001b[38;5;124m\"\u001b[39m\u001b[38;5;124mvalue\u001b[39m\u001b[38;5;124m\"\u001b[39m]\n",
      "File \u001b[1;32m~\\Downloads\\anaconda\\lib\\site-packages\\selenium\\webdriver\\remote\\webdriver.py:440\u001b[0m, in \u001b[0;36mWebDriver.execute\u001b[1;34m(self, driver_command, params)\u001b[0m\n\u001b[0;32m    438\u001b[0m response \u001b[38;5;241m=\u001b[39m \u001b[38;5;28mself\u001b[39m\u001b[38;5;241m.\u001b[39mcommand_executor\u001b[38;5;241m.\u001b[39mexecute(driver_command, params)\n\u001b[0;32m    439\u001b[0m \u001b[38;5;28;01mif\u001b[39;00m response:\n\u001b[1;32m--> 440\u001b[0m     \u001b[38;5;28;43mself\u001b[39;49m\u001b[38;5;241;43m.\u001b[39;49m\u001b[43merror_handler\u001b[49m\u001b[38;5;241;43m.\u001b[39;49m\u001b[43mcheck_response\u001b[49m\u001b[43m(\u001b[49m\u001b[43mresponse\u001b[49m\u001b[43m)\u001b[49m\n\u001b[0;32m    441\u001b[0m     response[\u001b[38;5;124m\"\u001b[39m\u001b[38;5;124mvalue\u001b[39m\u001b[38;5;124m\"\u001b[39m] \u001b[38;5;241m=\u001b[39m \u001b[38;5;28mself\u001b[39m\u001b[38;5;241m.\u001b[39m_unwrap_value(response\u001b[38;5;241m.\u001b[39mget(\u001b[38;5;124m\"\u001b[39m\u001b[38;5;124mvalue\u001b[39m\u001b[38;5;124m\"\u001b[39m, \u001b[38;5;28;01mNone\u001b[39;00m))\n\u001b[0;32m    442\u001b[0m     \u001b[38;5;28;01mreturn\u001b[39;00m response\n",
      "File \u001b[1;32m~\\Downloads\\anaconda\\lib\\site-packages\\selenium\\webdriver\\remote\\errorhandler.py:245\u001b[0m, in \u001b[0;36mErrorHandler.check_response\u001b[1;34m(self, response)\u001b[0m\n\u001b[0;32m    243\u001b[0m         alert_text \u001b[38;5;241m=\u001b[39m value[\u001b[38;5;124m\"\u001b[39m\u001b[38;5;124malert\u001b[39m\u001b[38;5;124m\"\u001b[39m]\u001b[38;5;241m.\u001b[39mget(\u001b[38;5;124m\"\u001b[39m\u001b[38;5;124mtext\u001b[39m\u001b[38;5;124m\"\u001b[39m)\n\u001b[0;32m    244\u001b[0m     \u001b[38;5;28;01mraise\u001b[39;00m exception_class(message, screen, stacktrace, alert_text)  \u001b[38;5;66;03m# type: ignore[call-arg]  # mypy is not smart enough here\u001b[39;00m\n\u001b[1;32m--> 245\u001b[0m \u001b[38;5;28;01mraise\u001b[39;00m exception_class(message, screen, stacktrace)\n",
      "\u001b[1;31mNoSuchElementException\u001b[0m: Message: no such element: Unable to locate element: {\"method\":\"xpath\",\"selector\":\"/html/body/div[3]/header/div/div[4]/div/div[1]/div[1]/button/svg\"}\n  (Session info: chrome=112.0.5615.87)\nStacktrace:\nBacktrace:\n\tGetHandleVerifier [0x00E8DCE3+50899]\n\t(No symbol) [0x00E1E111]\n\t(No symbol) [0x00D25588]\n\t(No symbol) [0x00D508F9]\n\t(No symbol) [0x00D50AFB]\n\t(No symbol) [0x00D7F902]\n\t(No symbol) [0x00D6B944]\n\t(No symbol) [0x00D7E01C]\n\t(No symbol) [0x00D6B6F6]\n\t(No symbol) [0x00D47708]\n\t(No symbol) [0x00D4886D]\n\tGetHandleVerifier [0x010F3EAE+2566302]\n\tGetHandleVerifier [0x011292B1+2784417]\n\tGetHandleVerifier [0x0112327C+2759788]\n\tGetHandleVerifier [0x00F25740+672048]\n\t(No symbol) [0x00E28872]\n\t(No symbol) [0x00E241C8]\n\t(No symbol) [0x00E242AB]\n\t(No symbol) [0x00E171B7]\n\tBaseThreadInitThunk [0x764200F9+25]\n\tRtlGetAppContainerNamedObjectPath [0x773B7BBE+286]\n\tRtlGetAppContainerNamedObjectPath [0x773B7B8E+238]\n"
     ]
    }
   ],
   "source": [
    "chart=driver.find_element(By.XPATH,'/html/body/div[3]/header/div/div[4]/div/div[1]/div[1]/button/svg')\n",
    "chart.click()"
   ]
  },
  {
   "cell_type": "code",
   "execution_count": 87,
   "id": "205bb773",
   "metadata": {},
   "outputs": [],
   "source": [
    "link=[]\n",
    "url=driver.find_elements(By.XPATH,'//a[@class=\"c-link  lrv-a-unstyle-link lrv-u-font-size-18@desktop lrv-u-color-grey:hover u-color-brand-secondary:hover@desktop-max u-padding-a-1@desktop-max lrv-u-padding-tb-025 lrv-u-display-block\"]')\n",
    "for i in url:\n",
    "    link.append(i.get_attribute('href'))"
   ]
  },
  {
   "cell_type": "code",
   "execution_count": 88,
   "id": "a88746af",
   "metadata": {},
   "outputs": [
    {
     "data": {
      "text/plain": [
       "43"
      ]
     },
     "execution_count": 88,
     "metadata": {},
     "output_type": "execute_result"
    }
   ],
   "source": [
    "len(link)"
   ]
  },
  {
   "cell_type": "code",
   "execution_count": null,
   "id": "c84495da",
   "metadata": {},
   "outputs": [],
   "source": [
    "name=[]\n",
    "for i in link:\n",
    "    driver.get(i)\n",
    "    time.sleep(3)\n",
    "    try:\n",
    "        artist=driver.find_element(By.XPATH,'/html/body/div[4]/main/div[2]/div[3]/div/div/div/div[2]/div[2]/ul/li[4]/ul/li[1]/h3')\n",
    "        name.append(artist.text)\n",
    "    except NoSuchElementException:\n",
    "        name.append('-')"
   ]
  },
  {
   "cell_type": "code",
   "execution_count": null,
   "id": "a229ffd9",
   "metadata": {},
   "outputs": [],
   "source": []
  },
  {
   "cell_type": "markdown",
   "id": "e61aea72",
   "metadata": {},
   "source": [
    "# tv series of all time from imdb.com. "
   ]
  },
  {
   "cell_type": "code",
   "execution_count": 227,
   "id": "1043f25d",
   "metadata": {},
   "outputs": [],
   "source": [
    "driver=webdriver.Chrome(r'C:\\Users\\prks\\Downloads\\chromedriver.exe')"
   ]
  },
  {
   "cell_type": "code",
   "execution_count": 228,
   "id": "c770d8b9",
   "metadata": {},
   "outputs": [],
   "source": [
    "driver.get('https://www.imdb.com/list/ls095964455/')"
   ]
  },
  {
   "cell_type": "code",
   "execution_count": 177,
   "id": "ee025d4f",
   "metadata": {},
   "outputs": [],
   "source": [
    "name=[]\n",
    "nam_tag=driver.find_elements(By.XPATH,'//h3[@class=\"lister-item-header\"]')\n",
    "for i in nam_tag:\n",
    "    num=i.text.split('.')[1]\n",
    "    name.append(num)"
   ]
  },
  {
   "cell_type": "code",
   "execution_count": 179,
   "id": "ddd33c03",
   "metadata": {},
   "outputs": [
    {
     "data": {
      "text/plain": [
       "100"
      ]
     },
     "execution_count": 179,
     "metadata": {},
     "output_type": "execute_result"
    }
   ],
   "source": [
    "len(name)"
   ]
  },
  {
   "cell_type": "code",
   "execution_count": 180,
   "id": "ebf0d357",
   "metadata": {},
   "outputs": [],
   "source": [
    "year=[]\n",
    "span_tag=driver.find_elements(By.XPATH,'//span[@class=\"lister-item-year text-muted unbold\"]')\n",
    "for i in span_tag:\n",
    "    yrr=i.text\n",
    "    year.append(yrr)"
   ]
  },
  {
   "cell_type": "code",
   "execution_count": 181,
   "id": "cebd06d3",
   "metadata": {},
   "outputs": [
    {
     "data": {
      "text/plain": [
       "100"
      ]
     },
     "execution_count": 181,
     "metadata": {},
     "output_type": "execute_result"
    }
   ],
   "source": [
    "len(year)"
   ]
  },
  {
   "cell_type": "code",
   "execution_count": 183,
   "id": "cfc85648",
   "metadata": {},
   "outputs": [],
   "source": [
    "gener=[]\n",
    "gm_tag=driver.find_elements(By.XPATH,'//span[@class=\"genre\"]')\n",
    "for i in gm_tag:\n",
    "    gonor=i.text\n",
    "    gener.append(gonor)"
   ]
  },
  {
   "cell_type": "code",
   "execution_count": 184,
   "id": "ff0e1fb6",
   "metadata": {},
   "outputs": [
    {
     "data": {
      "text/plain": [
       "100"
      ]
     },
     "execution_count": 184,
     "metadata": {},
     "output_type": "execute_result"
    }
   ],
   "source": [
    "len(gener)"
   ]
  },
  {
   "cell_type": "code",
   "execution_count": 186,
   "id": "d0653bb9",
   "metadata": {},
   "outputs": [],
   "source": [
    "run=[]\n",
    "time=driver.find_elements(By.XPATH,'//span[@class=\"runtime\"]')\n",
    "for i in time:\n",
    "    tum=i.text\n",
    "    run.append(tum)"
   ]
  },
  {
   "cell_type": "code",
   "execution_count": 188,
   "id": "bb52e5fd",
   "metadata": {},
   "outputs": [
    {
     "data": {
      "text/plain": [
       "100"
      ]
     },
     "execution_count": 188,
     "metadata": {},
     "output_type": "execute_result"
    }
   ],
   "source": [
    "len(run)"
   ]
  },
  {
   "cell_type": "code",
   "execution_count": 195,
   "id": "430e4bcc",
   "metadata": {},
   "outputs": [],
   "source": [
    "vote=[]\n",
    "vo_tag=driver.find_elements(By.XPATH,'//span[@class=\"text-muted\"]')\n",
    "for i in vo_tag:\n",
    "    voting=i.text\n",
    "    vote.append(voting)"
   ]
  },
  {
   "cell_type": "code",
   "execution_count": 229,
   "id": "3f6e54fc",
   "metadata": {},
   "outputs": [],
   "source": [
    "ratings=[]\n",
    "rat_tag=driver.find_elements(By.XPATH,'//div[@class=\"lister-item-content\"]/div/div/span[2]')\n",
    "for i in rat_tag:\n",
    "    rates=i.text\n",
    "    ratings.append(rates)"
   ]
  },
  {
   "cell_type": "code",
   "execution_count": 231,
   "id": "70bbd5ae",
   "metadata": {},
   "outputs": [
    {
     "data": {
      "text/plain": [
       "100"
      ]
     },
     "execution_count": 231,
     "metadata": {},
     "output_type": "execute_result"
    }
   ],
   "source": [
    "len(ratings)"
   ]
  },
  {
   "cell_type": "code",
   "execution_count": 202,
   "id": "6707f5e4",
   "metadata": {},
   "outputs": [
    {
     "data": {
      "text/html": [
       "<div>\n",
       "<style scoped>\n",
       "    .dataframe tbody tr th:only-of-type {\n",
       "        vertical-align: middle;\n",
       "    }\n",
       "\n",
       "    .dataframe tbody tr th {\n",
       "        vertical-align: top;\n",
       "    }\n",
       "\n",
       "    .dataframe thead th {\n",
       "        text-align: right;\n",
       "    }\n",
       "</style>\n",
       "<table border=\"1\" class=\"dataframe\">\n",
       "  <thead>\n",
       "    <tr style=\"text-align: right;\">\n",
       "      <th></th>\n",
       "      <th>name</th>\n",
       "      <th>year span</th>\n",
       "      <th>Gener</th>\n",
       "      <th>Run time</th>\n",
       "      <th>Ratings</th>\n",
       "    </tr>\n",
       "  </thead>\n",
       "  <tbody>\n",
       "    <tr>\n",
       "      <th>0</th>\n",
       "      <td>Game of Thrones (2011–2019)</td>\n",
       "      <td>(2011–2019)</td>\n",
       "      <td>Action, Adventure, Drama</td>\n",
       "      <td>57 min</td>\n",
       "      <td>9.2</td>\n",
       "    </tr>\n",
       "    <tr>\n",
       "      <th>1</th>\n",
       "      <td>Stranger Things (2016–2024)</td>\n",
       "      <td>(2016–2024)</td>\n",
       "      <td>Drama, Fantasy, Horror</td>\n",
       "      <td>51 min</td>\n",
       "      <td>8.7</td>\n",
       "    </tr>\n",
       "    <tr>\n",
       "      <th>2</th>\n",
       "      <td>The Walking Dead (2010–2022)</td>\n",
       "      <td>(2010–2022)</td>\n",
       "      <td>Drama, Horror, Thriller</td>\n",
       "      <td>44 min</td>\n",
       "      <td>8.1</td>\n",
       "    </tr>\n",
       "    <tr>\n",
       "      <th>3</th>\n",
       "      <td>13 Reasons Why (2017–2020)</td>\n",
       "      <td>(2017–2020)</td>\n",
       "      <td>Drama, Mystery, Thriller</td>\n",
       "      <td>60 min</td>\n",
       "      <td>7.5</td>\n",
       "    </tr>\n",
       "    <tr>\n",
       "      <th>4</th>\n",
       "      <td>The 100 (2014–2020)</td>\n",
       "      <td>(2014–2020)</td>\n",
       "      <td>Drama, Mystery, Sci-Fi</td>\n",
       "      <td>43 min</td>\n",
       "      <td>7.6</td>\n",
       "    </tr>\n",
       "    <tr>\n",
       "      <th>...</th>\n",
       "      <td>...</td>\n",
       "      <td>...</td>\n",
       "      <td>...</td>\n",
       "      <td>...</td>\n",
       "      <td>...</td>\n",
       "    </tr>\n",
       "    <tr>\n",
       "      <th>95</th>\n",
       "      <td>Reign (2013–2017)</td>\n",
       "      <td>(2013–2017)</td>\n",
       "      <td>Drama</td>\n",
       "      <td>42 min</td>\n",
       "      <td>7.4</td>\n",
       "    </tr>\n",
       "    <tr>\n",
       "      <th>96</th>\n",
       "      <td>A Series of Unfortunate Events (2017–2019)</td>\n",
       "      <td>(2017–2019)</td>\n",
       "      <td>Adventure, Comedy, Drama</td>\n",
       "      <td>50 min</td>\n",
       "      <td>7.8</td>\n",
       "    </tr>\n",
       "    <tr>\n",
       "      <th>97</th>\n",
       "      <td>Criminal Minds (2005– )</td>\n",
       "      <td>(2005– )</td>\n",
       "      <td>Crime, Drama, Mystery</td>\n",
       "      <td>42 min</td>\n",
       "      <td>8.1</td>\n",
       "    </tr>\n",
       "    <tr>\n",
       "      <th>98</th>\n",
       "      <td>Scream: The TV Series (2015–2019)</td>\n",
       "      <td>(2015–2019)</td>\n",
       "      <td>Comedy, Crime, Drama</td>\n",
       "      <td>45 min</td>\n",
       "      <td>7</td>\n",
       "    </tr>\n",
       "    <tr>\n",
       "      <th>99</th>\n",
       "      <td>The Haunting of Hill House (2018)</td>\n",
       "      <td>(2018)</td>\n",
       "      <td>Drama, Horror, Mystery</td>\n",
       "      <td>572 min</td>\n",
       "      <td>8.6</td>\n",
       "    </tr>\n",
       "  </tbody>\n",
       "</table>\n",
       "<p>100 rows × 5 columns</p>\n",
       "</div>"
      ],
      "text/plain": [
       "                                           name    year span  \\\n",
       "0                   Game of Thrones (2011–2019)  (2011–2019)   \n",
       "1                   Stranger Things (2016–2024)  (2016–2024)   \n",
       "2                  The Walking Dead (2010–2022)  (2010–2022)   \n",
       "3                    13 Reasons Why (2017–2020)  (2017–2020)   \n",
       "4                           The 100 (2014–2020)  (2014–2020)   \n",
       "..                                          ...          ...   \n",
       "95                            Reign (2013–2017)  (2013–2017)   \n",
       "96   A Series of Unfortunate Events (2017–2019)  (2017–2019)   \n",
       "97                      Criminal Minds (2005– )     (2005– )   \n",
       "98            Scream: The TV Series (2015–2019)  (2015–2019)   \n",
       "99            The Haunting of Hill House (2018)       (2018)   \n",
       "\n",
       "                       Gener Run time Ratings  \n",
       "0   Action, Adventure, Drama   57 min     9.2  \n",
       "1     Drama, Fantasy, Horror   51 min     8.7  \n",
       "2    Drama, Horror, Thriller   44 min     8.1  \n",
       "3   Drama, Mystery, Thriller   60 min     7.5  \n",
       "4     Drama, Mystery, Sci-Fi   43 min     7.6  \n",
       "..                       ...      ...     ...  \n",
       "95                     Drama   42 min     7.4  \n",
       "96  Adventure, Comedy, Drama   50 min     7.8  \n",
       "97     Crime, Drama, Mystery   42 min     8.1  \n",
       "98      Comedy, Crime, Drama   45 min       7  \n",
       "99    Drama, Horror, Mystery  572 min     8.6  \n",
       "\n",
       "[100 rows x 5 columns]"
      ]
     },
     "execution_count": 202,
     "metadata": {},
     "output_type": "execute_result"
    }
   ],
   "source": [
    "df=pd.DataFrame({'name':name,'year span':year,'Gener':gener,'Run time':run,'Ratings':ratings})\n",
    "df"
   ]
  },
  {
   "cell_type": "code",
   "execution_count": null,
   "id": "cbe45928",
   "metadata": {},
   "outputs": [],
   "source": []
  },
  {
   "cell_type": "markdown",
   "id": "69749197",
   "metadata": {},
   "source": [
    "# most viewed videos on YouTube from Wikipedia."
   ]
  },
  {
   "cell_type": "code",
   "execution_count": 272,
   "id": "45bc43c6",
   "metadata": {},
   "outputs": [],
   "source": [
    "driver=webdriver.Chrome(r'C:\\Users\\prks\\Downloads\\chromedriver.exe')"
   ]
  },
  {
   "cell_type": "code",
   "execution_count": 273,
   "id": "94d10955",
   "metadata": {},
   "outputs": [],
   "source": [
    "driver.get('https://en.wikipedia.org/wiki/List_of_most-viewed_YouTube_videos')"
   ]
  },
  {
   "cell_type": "code",
   "execution_count": null,
   "id": "6945e7a5",
   "metadata": {},
   "outputs": [],
   "source": [
    "rank=[]\n",
    "ran_tag=driver.find_elements(By.XPATH,'')"
   ]
  },
  {
   "cell_type": "code",
   "execution_count": null,
   "id": "febf1544",
   "metadata": {},
   "outputs": [],
   "source": []
  },
  {
   "cell_type": "markdown",
   "id": "eadc4816",
   "metadata": {},
   "source": [
    "# teamIndia’sinternationalfixtures from bcci.tv."
   ]
  },
  {
   "cell_type": "code",
   "execution_count": 274,
   "id": "f6ebdf77",
   "metadata": {},
   "outputs": [],
   "source": [
    "driver=webdriver.Chrome(r'C:\\Users\\prks\\Downloads\\chromedriver.exe')"
   ]
  },
  {
   "cell_type": "code",
   "execution_count": 275,
   "id": "2eddb61a",
   "metadata": {},
   "outputs": [],
   "source": [
    "driver.get('https://www.bcci.tv/')"
   ]
  },
  {
   "cell_type": "code",
   "execution_count": 377,
   "id": "b340178f",
   "metadata": {},
   "outputs": [],
   "source": [
    "# No data present in the webpage"
   ]
  },
  {
   "cell_type": "code",
   "execution_count": null,
   "id": "6a39d7f1",
   "metadata": {},
   "outputs": [],
   "source": []
  },
  {
   "cell_type": "markdown",
   "id": "947fcc0f",
   "metadata": {},
   "source": [
    "# Data science recruiters"
   ]
  },
  {
   "cell_type": "code",
   "execution_count": 348,
   "id": "f87d4742",
   "metadata": {},
   "outputs": [],
   "source": [
    "driver=webdriver.Chrome(r'C:\\Users\\prks\\Downloads\\chromedriver.exe')"
   ]
  },
  {
   "cell_type": "code",
   "execution_count": 349,
   "id": "467da8cd",
   "metadata": {},
   "outputs": [],
   "source": [
    "driver.get('https://www.naukri.com/hr-recruiters-consultants')"
   ]
  },
  {
   "cell_type": "code",
   "execution_count": 350,
   "id": "0eeb9032",
   "metadata": {},
   "outputs": [],
   "source": [
    "data=driver.find_element(By.XPATH,'/html/body/div[2]/div[2]/div[1]/div[1]/form/div[1]/div/div[1]/div[1]/div[2]/input')\n",
    "data.send_keys('Data Science')"
   ]
  },
  {
   "cell_type": "code",
   "execution_count": 351,
   "id": "6903e9d2",
   "metadata": {},
   "outputs": [],
   "source": [
    "search=driver.find_element(By.XPATH,'/html/body/div[2]/div[2]/div[1]/div[1]/form/div[1]/button')\n",
    "search.click()"
   ]
  },
  {
   "cell_type": "code",
   "execution_count": 352,
   "id": "21f0ed03",
   "metadata": {},
   "outputs": [],
   "source": [
    "name=[]\n",
    "nam_tag=driver.find_elements(By.XPATH,'//span[@class=\"fl ellipsis\"]')\n",
    "for i in nam_tag:\n",
    "    num=i.text\n",
    "    name.append(num)"
   ]
  },
  {
   "cell_type": "code",
   "execution_count": 354,
   "id": "abb9f017",
   "metadata": {},
   "outputs": [
    {
     "data": {
      "text/plain": [
       "50"
      ]
     },
     "execution_count": 354,
     "metadata": {},
     "output_type": "execute_result"
    }
   ],
   "source": [
    "len(name)"
   ]
  },
  {
   "cell_type": "code",
   "execution_count": 283,
   "id": "6bb2bc01",
   "metadata": {},
   "outputs": [],
   "source": [
    "desg=[]\n",
    "des_tag=driver.find_elements(By.XPATH,'//span[@class=\"ellipsis clr\"]')\n",
    "for i in des_tag:\n",
    "    desgination=i.text\n",
    "    desg.append(desgination)"
   ]
  },
  {
   "cell_type": "code",
   "execution_count": 284,
   "id": "2b47300e",
   "metadata": {},
   "outputs": [
    {
     "data": {
      "text/plain": [
       "50"
      ]
     },
     "execution_count": 284,
     "metadata": {},
     "output_type": "execute_result"
    }
   ],
   "source": [
    "len(desg)"
   ]
  },
  {
   "cell_type": "code",
   "execution_count": 304,
   "id": "19221261",
   "metadata": {},
   "outputs": [],
   "source": [
    "comp=[]\n",
    "com_tag=driver.find_elements(By.XPATH,'//a[@class=\"ellipsis\"]')\n",
    "for i in com_tag:\n",
    "    company=i.text\n",
    "    comp.append(company)"
   ]
  },
  {
   "cell_type": "code",
   "execution_count": 376,
   "id": "feb1c681",
   "metadata": {},
   "outputs": [
    {
     "data": {
      "text/plain": [
       "87"
      ]
     },
     "execution_count": 376,
     "metadata": {},
     "output_type": "execute_result"
    }
   ],
   "source": [
    "len(comp)"
   ]
  },
  {
   "cell_type": "code",
   "execution_count": 357,
   "id": "89641cc1",
   "metadata": {},
   "outputs": [],
   "source": [
    "skill=[]\n",
    "sk_tag=driver.find_elements(By.XPATH,'//div[@class=\"hireSec highlightable\"]')\n",
    "for i in sk_tag:\n",
    "    req=i.text\n",
    "    skill.append(req)"
   ]
  },
  {
   "cell_type": "code",
   "execution_count": 359,
   "id": "46913718",
   "metadata": {},
   "outputs": [
    {
     "data": {
      "text/plain": [
       "50"
      ]
     },
     "execution_count": 359,
     "metadata": {},
     "output_type": "execute_result"
    }
   ],
   "source": [
    "len(skill)"
   ]
  },
  {
   "cell_type": "code",
   "execution_count": 374,
   "id": "9e61f7c8",
   "metadata": {},
   "outputs": [],
   "source": [
    "loc=[]\n",
    "try:\n",
    "    location_tag=driver.find_elements(By.XPATH,'//small[@class=\"ellipsis\"]')\n",
    "    for i in location_tag:\n",
    "        loca=i.text\n",
    "        loc.append(loca)\n",
    "except NoSuchElementException:\n",
    "    loc.append('-')\n"
   ]
  },
  {
   "cell_type": "code",
   "execution_count": 375,
   "id": "dbdacb96",
   "metadata": {},
   "outputs": [
    {
     "data": {
      "text/plain": [
       "49"
      ]
     },
     "execution_count": 375,
     "metadata": {},
     "output_type": "execute_result"
    }
   ],
   "source": [
    "len(loc)"
   ]
  },
  {
   "cell_type": "code",
   "execution_count": 365,
   "id": "1a7714cd",
   "metadata": {},
   "outputs": [],
   "source": [
    "comp = []\n",
    "com_tag = driver.find_elements(By.XPATH, '//a[@class=\"ellipsis\"]')\n",
    "\n",
    "for element in com_tag:\n",
    "    company = element.text\n",
    "    if not company.startswith(\"Visit\") and not company.startswith(\"View\"):\n",
    "        comp.append(company)"
   ]
  },
  {
   "cell_type": "code",
   "execution_count": null,
   "id": "dccca5ed",
   "metadata": {},
   "outputs": [],
   "source": []
  }
 ],
 "metadata": {
  "kernelspec": {
   "display_name": "Python 3 (ipykernel)",
   "language": "python",
   "name": "python3"
  },
  "language_info": {
   "codemirror_mode": {
    "name": "ipython",
    "version": 3
   },
   "file_extension": ".py",
   "mimetype": "text/x-python",
   "name": "python",
   "nbconvert_exporter": "python",
   "pygments_lexer": "ipython3",
   "version": "3.9.12"
  }
 },
 "nbformat": 4,
 "nbformat_minor": 5
}
