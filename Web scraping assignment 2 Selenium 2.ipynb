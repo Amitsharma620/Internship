{
 "cells": [
  {
   "cell_type": "code",
   "execution_count": 1,
   "id": "b4ec7a6c",
   "metadata": {},
   "outputs": [],
   "source": [
    "import selenium\n",
    "import pandas as pd\n",
    "from selenium import webdriver\n",
    "import warnings\n",
    "warnings.filterwarnings('ignore')\n",
    "from selenium.webdriver.common.by import By\n",
    "import time"
   ]
  },
  {
   "cell_type": "code",
   "execution_count": 276,
   "id": "48a28628",
   "metadata": {},
   "outputs": [],
   "source": [
    "# First connect with driver.\n",
    "# Web driver help to connect the chrome to the web page\n",
    "driver=webdriver.Chrome(r'C:\\Users\\prks\\Downloads\\chromedriver.exe')"
   ]
  },
  {
   "cell_type": "markdown",
   "id": "6862740f",
   "metadata": {},
   "source": [
    "# Data Analyst Job position"
   ]
  },
  {
   "cell_type": "code",
   "execution_count": 277,
   "id": "3b3d748a",
   "metadata": {},
   "outputs": [],
   "source": [
    "# First get the web page\n",
    "\n",
    "driver.get('https://www.naukri.com/')"
   ]
  },
  {
   "cell_type": "code",
   "execution_count": 278,
   "id": "b41c1342",
   "metadata": {},
   "outputs": [],
   "source": [
    "# Enter the data analyst in desgination\n",
    "\n",
    "desgination=driver.find_element(By.CLASS_NAME,'suggestor-input')\n",
    "\n",
    "desgination.send_keys('Data Analyst')"
   ]
  },
  {
   "cell_type": "code",
   "execution_count": 279,
   "id": "182cead3",
   "metadata": {},
   "outputs": [],
   "source": [
    "# Enter Bangalore in location\n",
    "\n",
    "Loc=driver.find_element(By.XPATH,'/html/body/div[1]/div[7]/div/div/div[5]/div/div/div/div[1]/div/input')\n",
    "Loc.send_keys('Bangalore')"
   ]
  },
  {
   "cell_type": "code",
   "execution_count": 280,
   "id": "d97d7f7f",
   "metadata": {},
   "outputs": [],
   "source": [
    " # Click the search button\n",
    "search=driver.find_element(By.CLASS_NAME,'qsbSubmit')\n",
    "search.click()"
   ]
  },
  {
   "cell_type": "code",
   "execution_count": 281,
   "id": "dceb433d",
   "metadata": {},
   "outputs": [],
   "source": [
    "# now create the empty list\n",
    "\n",
    "amit=[]\n",
    "sharma=[]\n",
    "com_name=[]\n",
    "exe_req=[]"
   ]
  },
  {
   "cell_type": "code",
   "execution_count": 282,
   "id": "37c49d4d",
   "metadata": {},
   "outputs": [
    {
     "data": {
      "text/plain": [
       "['Data Engineer/Data Analyst',\n",
       " 'Data Analyst',\n",
       " 'Data Analyst',\n",
       " 'Data Analyst - Contractual',\n",
       " 'Data Analyst - Contractual',\n",
       " 'Data Analyst',\n",
       " 'Procurement Data Analyst',\n",
       " 'Data Analyst',\n",
       " 'Data Analyst',\n",
       " 'Data Analyst - EdTech']"
      ]
     },
     "execution_count": 282,
     "metadata": {},
     "output_type": "execute_result"
    }
   ],
   "source": [
    "job_tags=driver.find_elements(By.XPATH,'//a[@class=\"title ellipsis\"]')\n",
    "\n",
    "for i in job_tags[0:10]:\n",
    "    \n",
    "    posts=i.text\n",
    "    amit.append(posts)\n",
    "amit"
   ]
  },
  {
   "cell_type": "code",
   "execution_count": 283,
   "id": "90135719",
   "metadata": {},
   "outputs": [
    {
     "data": {
      "text/plain": [
       "['Hybrid - Bangalore/Bengaluru, Kolkata, Hyderabad/Secunderabad, Pune, Chennai, Delhi / NCR, Mumbai (All Areas)',\n",
       " 'Bangalore/Bengaluru',\n",
       " 'Bangalore/Bengaluru',\n",
       " 'Bangalore/Bengaluru',\n",
       " 'Bangalore/Bengaluru',\n",
       " 'Bangalore/Bengaluru',\n",
       " 'Bangalore/Bengaluru',\n",
       " 'Bangalore/Bengaluru',\n",
       " 'Bangalore/Bengaluru',\n",
       " 'Bangalore/Bengaluru']"
      ]
     },
     "execution_count": 283,
     "metadata": {},
     "output_type": "execute_result"
    }
   ],
   "source": [
    "loc_tag=driver.find_elements(By.XPATH,'//span[@class=\"ellipsis fleft locWdth\"]')\n",
    "\n",
    "for i in loc_tag[0:10]:\n",
    "    place=i.text\n",
    "    sharma.append(place)\n",
    "sharma"
   ]
  },
  {
   "cell_type": "code",
   "execution_count": 284,
   "id": "934e3502",
   "metadata": {},
   "outputs": [
    {
     "data": {
      "text/plain": [
       "['Tech Mahindra',\n",
       " 'Ingersoll Rand',\n",
       " 'Unusual Hire',\n",
       " 'Search Advisers Services Guj',\n",
       " 'Search Advisers Services Guj',\n",
       " 'ANZ',\n",
       " 'Schneider Electric',\n",
       " 'ANZ',\n",
       " 'Clarivate',\n",
       " 'Talentstack']"
      ]
     },
     "execution_count": 284,
     "metadata": {},
     "output_type": "execute_result"
    }
   ],
   "source": [
    "comp_tag=driver.find_elements(By.XPATH,'//a[@class=\"subTitle ellipsis fleft\"]')\n",
    "for i in comp_tag[0:10]:\n",
    "    company=i.text\n",
    "    com_name.append(company)\n",
    "com_name"
   ]
  },
  {
   "cell_type": "code",
   "execution_count": 285,
   "id": "cc612dd8",
   "metadata": {},
   "outputs": [
    {
     "data": {
      "text/plain": [
       "['6-11 Yrs',\n",
       " '3-6 Yrs',\n",
       " '1-4 Yrs',\n",
       " '2-3 Yrs',\n",
       " '2-3 Yrs',\n",
       " '5-8 Yrs',\n",
       " '2-3 Yrs',\n",
       " '5-9 Yrs',\n",
       " '2-4 Yrs',\n",
       " '2-6 Yrs']"
      ]
     },
     "execution_count": 285,
     "metadata": {},
     "output_type": "execute_result"
    }
   ],
   "source": [
    "expe=driver.find_elements(By.XPATH,'//span[@class=\"ellipsis fleft expwdth\"]')\n",
    "for i in expe[0:10]:\n",
    "    experience=i.text\n",
    "    exe_req.append(experience)\n",
    "exe_req"
   ]
  },
  {
   "cell_type": "code",
   "execution_count": 286,
   "id": "7ca318dd",
   "metadata": {},
   "outputs": [
    {
     "name": "stdout",
     "output_type": "stream",
     "text": [
      "10 10 10 10\n"
     ]
    }
   ],
   "source": [
    "# check the len\n",
    "print(len(amit),len(sharma),len(com_name),len(exe_req))"
   ]
  },
  {
   "cell_type": "code",
   "execution_count": 287,
   "id": "a442b263",
   "metadata": {},
   "outputs": [
    {
     "data": {
      "text/html": [
       "<div>\n",
       "<style scoped>\n",
       "    .dataframe tbody tr th:only-of-type {\n",
       "        vertical-align: middle;\n",
       "    }\n",
       "\n",
       "    .dataframe tbody tr th {\n",
       "        vertical-align: top;\n",
       "    }\n",
       "\n",
       "    .dataframe thead th {\n",
       "        text-align: right;\n",
       "    }\n",
       "</style>\n",
       "<table border=\"1\" class=\"dataframe\">\n",
       "  <thead>\n",
       "    <tr style=\"text-align: right;\">\n",
       "      <th></th>\n",
       "      <th>Position</th>\n",
       "      <th>Location</th>\n",
       "      <th>Company Name</th>\n",
       "      <th>Experience Required</th>\n",
       "    </tr>\n",
       "  </thead>\n",
       "  <tbody>\n",
       "    <tr>\n",
       "      <th>0</th>\n",
       "      <td>Data Engineer/Data Analyst</td>\n",
       "      <td>Hybrid - Bangalore/Bengaluru, Kolkata, Hyderab...</td>\n",
       "      <td>Tech Mahindra</td>\n",
       "      <td>6-11 Yrs</td>\n",
       "    </tr>\n",
       "    <tr>\n",
       "      <th>1</th>\n",
       "      <td>Data Analyst</td>\n",
       "      <td>Bangalore/Bengaluru</td>\n",
       "      <td>Ingersoll Rand</td>\n",
       "      <td>3-6 Yrs</td>\n",
       "    </tr>\n",
       "    <tr>\n",
       "      <th>2</th>\n",
       "      <td>Data Analyst</td>\n",
       "      <td>Bangalore/Bengaluru</td>\n",
       "      <td>Unusual Hire</td>\n",
       "      <td>1-4 Yrs</td>\n",
       "    </tr>\n",
       "    <tr>\n",
       "      <th>3</th>\n",
       "      <td>Data Analyst - Contractual</td>\n",
       "      <td>Bangalore/Bengaluru</td>\n",
       "      <td>Search Advisers Services Guj</td>\n",
       "      <td>2-3 Yrs</td>\n",
       "    </tr>\n",
       "    <tr>\n",
       "      <th>4</th>\n",
       "      <td>Data Analyst - Contractual</td>\n",
       "      <td>Bangalore/Bengaluru</td>\n",
       "      <td>Search Advisers Services Guj</td>\n",
       "      <td>2-3 Yrs</td>\n",
       "    </tr>\n",
       "    <tr>\n",
       "      <th>5</th>\n",
       "      <td>Data Analyst</td>\n",
       "      <td>Bangalore/Bengaluru</td>\n",
       "      <td>ANZ</td>\n",
       "      <td>5-8 Yrs</td>\n",
       "    </tr>\n",
       "    <tr>\n",
       "      <th>6</th>\n",
       "      <td>Procurement Data Analyst</td>\n",
       "      <td>Bangalore/Bengaluru</td>\n",
       "      <td>Schneider Electric</td>\n",
       "      <td>2-3 Yrs</td>\n",
       "    </tr>\n",
       "    <tr>\n",
       "      <th>7</th>\n",
       "      <td>Data Analyst</td>\n",
       "      <td>Bangalore/Bengaluru</td>\n",
       "      <td>ANZ</td>\n",
       "      <td>5-9 Yrs</td>\n",
       "    </tr>\n",
       "    <tr>\n",
       "      <th>8</th>\n",
       "      <td>Data Analyst</td>\n",
       "      <td>Bangalore/Bengaluru</td>\n",
       "      <td>Clarivate</td>\n",
       "      <td>2-4 Yrs</td>\n",
       "    </tr>\n",
       "    <tr>\n",
       "      <th>9</th>\n",
       "      <td>Data Analyst - EdTech</td>\n",
       "      <td>Bangalore/Bengaluru</td>\n",
       "      <td>Talentstack</td>\n",
       "      <td>2-6 Yrs</td>\n",
       "    </tr>\n",
       "  </tbody>\n",
       "</table>\n",
       "</div>"
      ],
      "text/plain": [
       "                     Position  \\\n",
       "0  Data Engineer/Data Analyst   \n",
       "1                Data Analyst   \n",
       "2                Data Analyst   \n",
       "3  Data Analyst - Contractual   \n",
       "4  Data Analyst - Contractual   \n",
       "5                Data Analyst   \n",
       "6    Procurement Data Analyst   \n",
       "7                Data Analyst   \n",
       "8                Data Analyst   \n",
       "9       Data Analyst - EdTech   \n",
       "\n",
       "                                            Location  \\\n",
       "0  Hybrid - Bangalore/Bengaluru, Kolkata, Hyderab...   \n",
       "1                                Bangalore/Bengaluru   \n",
       "2                                Bangalore/Bengaluru   \n",
       "3                                Bangalore/Bengaluru   \n",
       "4                                Bangalore/Bengaluru   \n",
       "5                                Bangalore/Bengaluru   \n",
       "6                                Bangalore/Bengaluru   \n",
       "7                                Bangalore/Bengaluru   \n",
       "8                                Bangalore/Bengaluru   \n",
       "9                                Bangalore/Bengaluru   \n",
       "\n",
       "                   Company Name Experience Required  \n",
       "0                 Tech Mahindra            6-11 Yrs  \n",
       "1                Ingersoll Rand             3-6 Yrs  \n",
       "2                  Unusual Hire             1-4 Yrs  \n",
       "3  Search Advisers Services Guj             2-3 Yrs  \n",
       "4  Search Advisers Services Guj             2-3 Yrs  \n",
       "5                           ANZ             5-8 Yrs  \n",
       "6            Schneider Electric             2-3 Yrs  \n",
       "7                           ANZ             5-9 Yrs  \n",
       "8                     Clarivate             2-4 Yrs  \n",
       "9                   Talentstack             2-6 Yrs  "
      ]
     },
     "execution_count": 287,
     "metadata": {},
     "output_type": "execute_result"
    }
   ],
   "source": [
    "# Finally make a data frame\n",
    "Data_analyst=pd.DataFrame({'Position':amit,'Location':sharma,'Company Name':com_name,'Experience Required':exe_req})\n",
    "Data_analyst"
   ]
  },
  {
   "cell_type": "markdown",
   "id": "c1578363",
   "metadata": {},
   "source": [
    "# Data Scientist Job Position"
   ]
  },
  {
   "cell_type": "code",
   "execution_count": 265,
   "id": "d84f4d9e",
   "metadata": {},
   "outputs": [],
   "source": [
    "# connect the driver\n",
    "\n",
    "driver=webdriver.Chrome(r'C:\\Users\\prks\\Downloads\\chromedriver.exe')"
   ]
  },
  {
   "cell_type": "code",
   "execution_count": 266,
   "id": "f37304d0",
   "metadata": {},
   "outputs": [],
   "source": [
    "# get the web page\n",
    "driver.get('https://www.naukri.com/')"
   ]
  },
  {
   "cell_type": "code",
   "execution_count": 267,
   "id": "5fe03989",
   "metadata": {},
   "outputs": [],
   "source": [
    "# Enter data scientist in desgination\n",
    "desgination=driver.find_element(By.CLASS_NAME,'suggestor-input')\n",
    "desgination.send_keys('Data Scientist')"
   ]
  },
  {
   "cell_type": "code",
   "execution_count": 268,
   "id": "c5731dab",
   "metadata": {},
   "outputs": [],
   "source": [
    "# Enter Bangalore in location\n",
    "Location=driver.find_element(By.XPATH,'/html/body/div[1]/div[7]/div/div/div[5]/div/div/div/div[1]/div/input')\n",
    "Location.send_keys('Bangalore')"
   ]
  },
  {
   "cell_type": "code",
   "execution_count": 269,
   "id": "cbae463b",
   "metadata": {},
   "outputs": [],
   "source": [
    "# click search\n",
    "search=driver.find_element(By.CLASS_NAME,'qsbSubmit')\n",
    "search.click()"
   ]
  },
  {
   "cell_type": "code",
   "execution_count": 270,
   "id": "7172e2b6",
   "metadata": {},
   "outputs": [],
   "source": [
    "# Create the empty list\n",
    "Scientst=[]\n",
    "City=[]\n",
    "Name=[]"
   ]
  },
  {
   "cell_type": "code",
   "execution_count": 271,
   "id": "6ed9efca",
   "metadata": {},
   "outputs": [],
   "source": [
    "job_tag=driver.find_elements(By.XPATH,'//a[@class=\"title ellipsis\"]')\n",
    "\n",
    "for i in job_tag[0:10]:\n",
    "    title=i.text\n",
    "    Scientst.append(title)\n",
    "    \n",
    "loc_tag=driver.find_elements(By.XPATH,'//span[@class=\"ellipsis fleft locWdth\"]')\n",
    "\n",
    "for i in loc_tag[0:10]:\n",
    "    loc=i.text\n",
    "    City.append(loc)"
   ]
  },
  {
   "cell_type": "code",
   "execution_count": 272,
   "id": "7c997d37",
   "metadata": {},
   "outputs": [],
   "source": [
    "nme=driver.find_elements(By.XPATH,'//a[@class=\"subTitle ellipsis fleft\"]')\n",
    "for i in nme[0:10]:\n",
    "    att=i.text\n",
    "    Name.append(att)"
   ]
  },
  {
   "cell_type": "code",
   "execution_count": 273,
   "id": "06cb584c",
   "metadata": {},
   "outputs": [
    {
     "name": "stdout",
     "output_type": "stream",
     "text": [
      "10 10 10\n"
     ]
    }
   ],
   "source": [
    "# check the length\n",
    "print(len(Scientst), len(City), len(Name))"
   ]
  },
  {
   "cell_type": "code",
   "execution_count": 274,
   "id": "554c33d8",
   "metadata": {},
   "outputs": [
    {
     "data": {
      "text/html": [
       "<div>\n",
       "<style scoped>\n",
       "    .dataframe tbody tr th:only-of-type {\n",
       "        vertical-align: middle;\n",
       "    }\n",
       "\n",
       "    .dataframe tbody tr th {\n",
       "        vertical-align: top;\n",
       "    }\n",
       "\n",
       "    .dataframe thead th {\n",
       "        text-align: right;\n",
       "    }\n",
       "</style>\n",
       "<table border=\"1\" class=\"dataframe\">\n",
       "  <thead>\n",
       "    <tr style=\"text-align: right;\">\n",
       "      <th></th>\n",
       "      <th>Position</th>\n",
       "      <th>Location</th>\n",
       "      <th>Company name</th>\n",
       "    </tr>\n",
       "  </thead>\n",
       "  <tbody>\n",
       "    <tr>\n",
       "      <th>0</th>\n",
       "      <td>Data Science Professional - IBM SPSS Statistic...</td>\n",
       "      <td>Bangalore/Bengaluru, Noida, Mumbai, Pune, Chennai</td>\n",
       "      <td>Hexaware Technologies</td>\n",
       "    </tr>\n",
       "    <tr>\n",
       "      <th>1</th>\n",
       "      <td>Data Science Specialist</td>\n",
       "      <td>Bangalore/Bengaluru, Kolkata, Mumbai, Hyderaba...</td>\n",
       "      <td>Accenture</td>\n",
       "    </tr>\n",
       "    <tr>\n",
       "      <th>2</th>\n",
       "      <td>Analystics &amp; Modeling Specialist</td>\n",
       "      <td>Bangalore/Bengaluru, Kolkata, Mumbai, Hyderaba...</td>\n",
       "      <td>Accenture</td>\n",
       "    </tr>\n",
       "    <tr>\n",
       "      <th>3</th>\n",
       "      <td>Senior data scientist</td>\n",
       "      <td>Bangalore/Bengaluru, Mumbai, Pune, Chennai, Gu...</td>\n",
       "      <td>Fractal Analytics</td>\n",
       "    </tr>\n",
       "    <tr>\n",
       "      <th>4</th>\n",
       "      <td>Data Scientist_NLP</td>\n",
       "      <td>Bangalore/Bengaluru, Mumbai, Pune, Chennai, Gu...</td>\n",
       "      <td>Fractal Analytics</td>\n",
       "    </tr>\n",
       "    <tr>\n",
       "      <th>5</th>\n",
       "      <td>Data Scientist</td>\n",
       "      <td>Bangalore/Bengaluru, Mumbai, Pune, Chennai, Gu...</td>\n",
       "      <td>Fractal Analytics</td>\n",
       "    </tr>\n",
       "    <tr>\n",
       "      <th>6</th>\n",
       "      <td>Machine Learning (AI) Architect</td>\n",
       "      <td>Bangalore/Bengaluru, Kolkata, Mumbai, New Delh...</td>\n",
       "      <td>Persistent</td>\n",
       "    </tr>\n",
       "    <tr>\n",
       "      <th>7</th>\n",
       "      <td>Manager - Innovations Hub - Machine Learning</td>\n",
       "      <td>Bangalore/Bengaluru, Mumbai, Hyderabad/Secunde...</td>\n",
       "      <td>PwC</td>\n",
       "    </tr>\n",
       "    <tr>\n",
       "      <th>8</th>\n",
       "      <td>Senior Engineer Consultant Data Science</td>\n",
       "      <td>Bangalore/Bengaluru</td>\n",
       "      <td>Verizon</td>\n",
       "    </tr>\n",
       "    <tr>\n",
       "      <th>9</th>\n",
       "      <td>Senior Engineer Consultant-Data Science</td>\n",
       "      <td>Bangalore/Bengaluru</td>\n",
       "      <td>Verizon</td>\n",
       "    </tr>\n",
       "  </tbody>\n",
       "</table>\n",
       "</div>"
      ],
      "text/plain": [
       "                                            Position  \\\n",
       "0  Data Science Professional - IBM SPSS Statistic...   \n",
       "1                            Data Science Specialist   \n",
       "2                   Analystics & Modeling Specialist   \n",
       "3                              Senior data scientist   \n",
       "4                                 Data Scientist_NLP   \n",
       "5                                     Data Scientist   \n",
       "6                    Machine Learning (AI) Architect   \n",
       "7       Manager - Innovations Hub - Machine Learning   \n",
       "8            Senior Engineer Consultant Data Science   \n",
       "9            Senior Engineer Consultant-Data Science   \n",
       "\n",
       "                                            Location           Company name  \n",
       "0  Bangalore/Bengaluru, Noida, Mumbai, Pune, Chennai  Hexaware Technologies  \n",
       "1  Bangalore/Bengaluru, Kolkata, Mumbai, Hyderaba...              Accenture  \n",
       "2  Bangalore/Bengaluru, Kolkata, Mumbai, Hyderaba...              Accenture  \n",
       "3  Bangalore/Bengaluru, Mumbai, Pune, Chennai, Gu...      Fractal Analytics  \n",
       "4  Bangalore/Bengaluru, Mumbai, Pune, Chennai, Gu...      Fractal Analytics  \n",
       "5  Bangalore/Bengaluru, Mumbai, Pune, Chennai, Gu...      Fractal Analytics  \n",
       "6  Bangalore/Bengaluru, Kolkata, Mumbai, New Delh...             Persistent  \n",
       "7  Bangalore/Bengaluru, Mumbai, Hyderabad/Secunde...                    PwC  \n",
       "8                                Bangalore/Bengaluru                Verizon  \n",
       "9                                Bangalore/Bengaluru                Verizon  "
      ]
     },
     "execution_count": 274,
     "metadata": {},
     "output_type": "execute_result"
    }
   ],
   "source": [
    "# Make a DataFrame\n",
    "\n",
    "Naukri=pd.DataFrame({'Position':Scientst,'Location':City,'Company name':Name})\n",
    "Naukri"
   ]
  },
  {
   "cell_type": "markdown",
   "id": "649b83a9",
   "metadata": {},
   "source": [
    "# Data Scientist Using Filter"
   ]
  },
  {
   "cell_type": "code",
   "execution_count": 22,
   "id": "d5edaecf",
   "metadata": {},
   "outputs": [],
   "source": [
    "driver=webdriver.Chrome(r'C:\\Users\\prks\\Downloads\\chromedriver.exe')"
   ]
  },
  {
   "cell_type": "code",
   "execution_count": 23,
   "id": "c8fe5317",
   "metadata": {},
   "outputs": [],
   "source": [
    "driver.get('https://www.naukri.com/')"
   ]
  },
  {
   "cell_type": "code",
   "execution_count": 24,
   "id": "cf55c086",
   "metadata": {},
   "outputs": [],
   "source": [
    "desgination=driver.find_element(By.CLASS_NAME,'suggestor-input')\n",
    "desgination.send_keys('Data Scientist')"
   ]
  },
  {
   "cell_type": "code",
   "execution_count": 25,
   "id": "6eb44ceb",
   "metadata": {},
   "outputs": [],
   "source": [
    "search=driver.find_element(By.CLASS_NAME,'qsbSubmit')\n",
    "search.click()"
   ]
  },
  {
   "cell_type": "code",
   "execution_count": 26,
   "id": "cf755d7c",
   "metadata": {},
   "outputs": [],
   "source": [
    "loc=driver.find_element(By.XPATH,'/html/body/div[1]/div[4]/div/div/section[1]/div[2]/div[5]/div[2]/div[2]/label/p/span[1]')\n",
    "loc.click()"
   ]
  },
  {
   "cell_type": "code",
   "execution_count": 27,
   "id": "121baf9e",
   "metadata": {},
   "outputs": [],
   "source": [
    "salary=driver.find_element(By.XPATH,'/html/body/div[1]/div[4]/div/div/section[1]/div[2]/div[6]/div[2]/div[2]/label/p/span[1]')\n",
    "salary.click()"
   ]
  },
  {
   "cell_type": "code",
   "execution_count": 28,
   "id": "42845ac7",
   "metadata": {},
   "outputs": [],
   "source": [
    "job=[]\n",
    "loc=[]\n",
    "com=[]\n",
    "exp=[]"
   ]
  },
  {
   "cell_type": "code",
   "execution_count": 29,
   "id": "f442ff75",
   "metadata": {},
   "outputs": [
    {
     "data": {
      "text/plain": [
       "10"
      ]
     },
     "execution_count": 29,
     "metadata": {},
     "output_type": "execute_result"
    }
   ],
   "source": [
    "jobs_tag=driver.find_elements(By.XPATH,'//a[@class=\"title ellipsis\"]')\n",
    "for i in jobs_tag[0:10]:\n",
    "    titel=i.text\n",
    "    job.append(titel)\n",
    "len(job)"
   ]
  },
  {
   "cell_type": "code",
   "execution_count": 30,
   "id": "367b79e6",
   "metadata": {},
   "outputs": [
    {
     "data": {
      "text/plain": [
       "10"
      ]
     },
     "execution_count": 30,
     "metadata": {},
     "output_type": "execute_result"
    }
   ],
   "source": [
    "locs_tag=driver.find_elements(By.XPATH,'//span[@class=\"ellipsis fleft locWdth\"]')\n",
    "for i in locs_tag[0:10]:\n",
    "    loc_title=i.text\n",
    "    loc.append(loc_title)\n",
    "len(loc)"
   ]
  },
  {
   "cell_type": "code",
   "execution_count": 31,
   "id": "70db3403",
   "metadata": {},
   "outputs": [
    {
     "data": {
      "text/plain": [
       "10"
      ]
     },
     "execution_count": 31,
     "metadata": {},
     "output_type": "execute_result"
    }
   ],
   "source": [
    "company_tag=driver.find_elements(By.XPATH,'//a[@class=\"subTitle ellipsis fleft\"]')\n",
    "for i in company_tag[0:10]:\n",
    "    com_title=i.text\n",
    "    com.append(com_title)\n",
    "len(com)"
   ]
  },
  {
   "cell_type": "code",
   "execution_count": 32,
   "id": "c968eb35",
   "metadata": {},
   "outputs": [
    {
     "data": {
      "text/plain": [
       "10"
      ]
     },
     "execution_count": 32,
     "metadata": {},
     "output_type": "execute_result"
    }
   ],
   "source": [
    "expe_tag=driver.find_elements(By.XPATH,'//span[@class=\"ellipsis fleft expwdth\"]')\n",
    "for i in expe_tag[0:10]:\n",
    "    exp_title=i.text\n",
    "    exp.append(exp_title)\n",
    "    \n",
    "len(exp)"
   ]
  },
  {
   "cell_type": "code",
   "execution_count": 33,
   "id": "e00c8353",
   "metadata": {},
   "outputs": [
    {
     "data": {
      "text/html": [
       "<div>\n",
       "<style scoped>\n",
       "    .dataframe tbody tr th:only-of-type {\n",
       "        vertical-align: middle;\n",
       "    }\n",
       "\n",
       "    .dataframe tbody tr th {\n",
       "        vertical-align: top;\n",
       "    }\n",
       "\n",
       "    .dataframe thead th {\n",
       "        text-align: right;\n",
       "    }\n",
       "</style>\n",
       "<table border=\"1\" class=\"dataframe\">\n",
       "  <thead>\n",
       "    <tr style=\"text-align: right;\">\n",
       "      <th></th>\n",
       "      <th>titel</th>\n",
       "      <th>location</th>\n",
       "      <th>company</th>\n",
       "      <th>experience</th>\n",
       "    </tr>\n",
       "  </thead>\n",
       "  <tbody>\n",
       "    <tr>\n",
       "      <th>0</th>\n",
       "      <td>Data Scientist</td>\n",
       "      <td>Temp. WFH - Kochi/Cochin, Kolkata, Hyderabad/S...</td>\n",
       "      <td>Cognizant</td>\n",
       "      <td>6-10 Yrs</td>\n",
       "    </tr>\n",
       "    <tr>\n",
       "      <th>1</th>\n",
       "      <td>Junior Data Scientist</td>\n",
       "      <td>Kolkata, Mumbai, New Delhi, Hyderabad/Secunder...</td>\n",
       "      <td>Analytos</td>\n",
       "      <td>0-2 Yrs</td>\n",
       "    </tr>\n",
       "    <tr>\n",
       "      <th>2</th>\n",
       "      <td>Data Scientist</td>\n",
       "      <td>Gurgaon/Gurugram, Bangalore/Bengaluru</td>\n",
       "      <td>Blackbuck</td>\n",
       "      <td>3-7 Yrs</td>\n",
       "    </tr>\n",
       "    <tr>\n",
       "      <th>3</th>\n",
       "      <td>Data Scientist</td>\n",
       "      <td>Kolkata, Mumbai, New Delhi, Hyderabad/Secunder...</td>\n",
       "      <td>Tabsquare</td>\n",
       "      <td>1-3 Yrs</td>\n",
       "    </tr>\n",
       "    <tr>\n",
       "      <th>4</th>\n",
       "      <td>Data Scientist</td>\n",
       "      <td>Kolkata, Mumbai, New Delhi, Hyderabad/Secunder...</td>\n",
       "      <td>Analytos</td>\n",
       "      <td>2-4 Yrs</td>\n",
       "    </tr>\n",
       "    <tr>\n",
       "      <th>5</th>\n",
       "      <td>Analyst-Data Science</td>\n",
       "      <td>Gurgaon/Gurugram</td>\n",
       "      <td>AMERICAN EXPRESS</td>\n",
       "      <td>0-3 Yrs</td>\n",
       "    </tr>\n",
       "    <tr>\n",
       "      <th>6</th>\n",
       "      <td>Analyst-Data Science</td>\n",
       "      <td>Gurgaon/Gurugram</td>\n",
       "      <td>AMERICAN EXPRESS</td>\n",
       "      <td>0-3 Yrs</td>\n",
       "    </tr>\n",
       "    <tr>\n",
       "      <th>7</th>\n",
       "      <td>Senior Data Scientist</td>\n",
       "      <td>Hyderabad/Secunderabad, Chenani, Gurgaon/Gurug...</td>\n",
       "      <td>RecruitEForU</td>\n",
       "      <td>3-8 Yrs</td>\n",
       "    </tr>\n",
       "    <tr>\n",
       "      <th>8</th>\n",
       "      <td>Assistant Manager/Senior Manager - Data Scientist</td>\n",
       "      <td>Gurgaon/Gurugram, Bangalore/Bengaluru</td>\n",
       "      <td>Huquo Consulting Pvt. Ltd</td>\n",
       "      <td>2-7 Yrs</td>\n",
       "    </tr>\n",
       "    <tr>\n",
       "      <th>9</th>\n",
       "      <td>ASE/SE/SSE-Data Science</td>\n",
       "      <td>Noida</td>\n",
       "      <td>Bold Technology Systems</td>\n",
       "      <td>2-7 Yrs</td>\n",
       "    </tr>\n",
       "  </tbody>\n",
       "</table>\n",
       "</div>"
      ],
      "text/plain": [
       "                                               titel  \\\n",
       "0                                     Data Scientist   \n",
       "1                              Junior Data Scientist   \n",
       "2                                     Data Scientist   \n",
       "3                                     Data Scientist   \n",
       "4                                     Data Scientist   \n",
       "5                               Analyst-Data Science   \n",
       "6                               Analyst-Data Science   \n",
       "7                              Senior Data Scientist   \n",
       "8  Assistant Manager/Senior Manager - Data Scientist   \n",
       "9                            ASE/SE/SSE-Data Science   \n",
       "\n",
       "                                            location  \\\n",
       "0  Temp. WFH - Kochi/Cochin, Kolkata, Hyderabad/S...   \n",
       "1  Kolkata, Mumbai, New Delhi, Hyderabad/Secunder...   \n",
       "2              Gurgaon/Gurugram, Bangalore/Bengaluru   \n",
       "3  Kolkata, Mumbai, New Delhi, Hyderabad/Secunder...   \n",
       "4  Kolkata, Mumbai, New Delhi, Hyderabad/Secunder...   \n",
       "5                                   Gurgaon/Gurugram   \n",
       "6                                   Gurgaon/Gurugram   \n",
       "7  Hyderabad/Secunderabad, Chenani, Gurgaon/Gurug...   \n",
       "8              Gurgaon/Gurugram, Bangalore/Bengaluru   \n",
       "9                                              Noida   \n",
       "\n",
       "                     company experience  \n",
       "0                  Cognizant   6-10 Yrs  \n",
       "1                   Analytos    0-2 Yrs  \n",
       "2                  Blackbuck    3-7 Yrs  \n",
       "3                  Tabsquare    1-3 Yrs  \n",
       "4                   Analytos    2-4 Yrs  \n",
       "5           AMERICAN EXPRESS    0-3 Yrs  \n",
       "6           AMERICAN EXPRESS    0-3 Yrs  \n",
       "7               RecruitEForU    3-8 Yrs  \n",
       "8  Huquo Consulting Pvt. Ltd    2-7 Yrs  \n",
       "9    Bold Technology Systems    2-7 Yrs  "
      ]
     },
     "execution_count": 33,
     "metadata": {},
     "output_type": "execute_result"
    }
   ],
   "source": [
    "# Make a dataframe\n",
    "Filter=pd.DataFrame({'titel':job,'location':loc,'company':com,'experience':exp})\n",
    "Filter"
   ]
  },
  {
   "cell_type": "markdown",
   "id": "b716d0b3",
   "metadata": {},
   "source": [
    "# Flipkart Sunglasses"
   ]
  },
  {
   "cell_type": "code",
   "execution_count": 56,
   "id": "804235ea",
   "metadata": {},
   "outputs": [],
   "source": [
    "driver=webdriver.Chrome(r'C:\\Users\\prks\\Downloads\\chromedriver.exe')"
   ]
  },
  {
   "cell_type": "code",
   "execution_count": 57,
   "id": "c64e401d",
   "metadata": {},
   "outputs": [],
   "source": [
    "driver.get('https://www.flipkart.com/')"
   ]
  },
  {
   "cell_type": "code",
   "execution_count": 58,
   "id": "46dc1ebc",
   "metadata": {},
   "outputs": [],
   "source": [
    "glass=driver.find_element(By.CLASS_NAME,'_3704LK')\n",
    "glass.send_keys('Sunglasses')"
   ]
  },
  {
   "cell_type": "code",
   "execution_count": 59,
   "id": "7110240c",
   "metadata": {},
   "outputs": [],
   "source": [
    "search=driver.find_element(By.CLASS_NAME,'L0Z3Pu')\n",
    "search.click()"
   ]
  },
  {
   "cell_type": "code",
   "execution_count": 60,
   "id": "9d957b5c",
   "metadata": {},
   "outputs": [],
   "source": [
    "Sunglass=[]"
   ]
  },
  {
   "cell_type": "code",
   "execution_count": 61,
   "id": "d4fd7c90",
   "metadata": {},
   "outputs": [],
   "source": [
    "start=0\n",
    "end=3\n",
    "\n",
    "for page in range(start,end):\n",
    "    spects=driver.find_elements(By.XPATH,'//div[@class=\"_2WkVRV\"]')\n",
    "    for i in spects[0:100]:\n",
    "        Sunglass.append(i.text)\n",
    "    next_button=driver.find_element(By.CLASS_NAME,'_1LKTO3')\n",
    "    next_button.click()\n",
    "    time.sleep(4)"
   ]
  },
  {
   "cell_type": "code",
   "execution_count": 62,
   "id": "86b2ccd2",
   "metadata": {},
   "outputs": [
    {
     "data": {
      "text/plain": [
       "120"
      ]
     },
     "execution_count": 62,
     "metadata": {},
     "output_type": "execute_result"
    }
   ],
   "source": [
    "len(Sunglasses)"
   ]
  },
  {
   "cell_type": "code",
   "execution_count": 63,
   "id": "6f9282f5",
   "metadata": {},
   "outputs": [],
   "source": [
    "des=[]"
   ]
  },
  {
   "cell_type": "code",
   "execution_count": 64,
   "id": "d884a178",
   "metadata": {},
   "outputs": [],
   "source": [
    "start=0\n",
    "end=3\n",
    "\n",
    "for page in range(start,end):\n",
    "    dep=driver.find_elements(By.XPATH,'//a[@class=\"IRpwTa\"]')\n",
    "    for i in dep[0:100]:\n",
    "        des.append(i.text)\n",
    "    nexxt=driver.find_element(By.CLASS_NAME,'_1LKTO3')\n",
    "    nexxt.click()\n",
    "    time.sleep(4)"
   ]
  },
  {
   "cell_type": "code",
   "execution_count": 65,
   "id": "c012e01d",
   "metadata": {},
   "outputs": [
    {
     "data": {
      "text/plain": [
       "120"
      ]
     },
     "execution_count": 65,
     "metadata": {},
     "output_type": "execute_result"
    }
   ],
   "source": [
    "len(des)"
   ]
  },
  {
   "cell_type": "code",
   "execution_count": 66,
   "id": "c98d62a0",
   "metadata": {},
   "outputs": [],
   "source": [
    "Range=[]\n",
    "\n",
    "start=0\n",
    "end=3\n",
    "\n",
    "for page in range(start,end):\n",
    "    pr=driver.find_elements(By.XPATH,'//div[@class=\"_30jeq3\"]')\n",
    "    for i in pr[0:100]:\n",
    "        Range.append(i.text)\n",
    "    cllick=driver.find_element(By.CLASS_NAME,'_1LKTO3')\n",
    "    cllick.click()\n",
    "    time.sleep(4)"
   ]
  },
  {
   "cell_type": "code",
   "execution_count": 68,
   "id": "5e8223bb",
   "metadata": {},
   "outputs": [
    {
     "data": {
      "text/plain": [
       "120"
      ]
     },
     "execution_count": 68,
     "metadata": {},
     "output_type": "execute_result"
    }
   ],
   "source": [
    "len(Range)"
   ]
  },
  {
   "cell_type": "code",
   "execution_count": 69,
   "id": "4cc600f4",
   "metadata": {},
   "outputs": [
    {
     "data": {
      "text/html": [
       "<div>\n",
       "<style scoped>\n",
       "    .dataframe tbody tr th:only-of-type {\n",
       "        vertical-align: middle;\n",
       "    }\n",
       "\n",
       "    .dataframe tbody tr th {\n",
       "        vertical-align: top;\n",
       "    }\n",
       "\n",
       "    .dataframe thead th {\n",
       "        text-align: right;\n",
       "    }\n",
       "</style>\n",
       "<table border=\"1\" class=\"dataframe\">\n",
       "  <thead>\n",
       "    <tr style=\"text-align: right;\">\n",
       "      <th></th>\n",
       "      <th>Brand</th>\n",
       "      <th>Product Des</th>\n",
       "      <th>Price</th>\n",
       "    </tr>\n",
       "  </thead>\n",
       "  <tbody>\n",
       "    <tr>\n",
       "      <th>0</th>\n",
       "      <td>Singco India</td>\n",
       "      <td>Gradient, UV Protection Wayfarer Sunglasses (F...</td>\n",
       "      <td>₹129</td>\n",
       "    </tr>\n",
       "    <tr>\n",
       "      <th>1</th>\n",
       "      <td>Resist</td>\n",
       "      <td>Gradient, UV Protection Aviator Sunglasses (57)</td>\n",
       "      <td>₹1,489</td>\n",
       "    </tr>\n",
       "    <tr>\n",
       "      <th>2</th>\n",
       "      <td>PIRASO</td>\n",
       "      <td>UV Protection Rectangular Sunglasses (52)</td>\n",
       "      <td>₹268</td>\n",
       "    </tr>\n",
       "    <tr>\n",
       "      <th>3</th>\n",
       "      <td>Elligator</td>\n",
       "      <td>UV Protection, Gradient Rectangular Sunglasses...</td>\n",
       "      <td>₹149</td>\n",
       "    </tr>\n",
       "    <tr>\n",
       "      <th>4</th>\n",
       "      <td>Fastrack</td>\n",
       "      <td>Night Vision, Riding Glasses, Polarized, UV Pr...</td>\n",
       "      <td>₹519</td>\n",
       "    </tr>\n",
       "    <tr>\n",
       "      <th>...</th>\n",
       "      <td>...</td>\n",
       "      <td>...</td>\n",
       "      <td>...</td>\n",
       "    </tr>\n",
       "    <tr>\n",
       "      <th>115</th>\n",
       "      <td>NuVew</td>\n",
       "      <td>UV Protection Wayfarer, Rectangular Sunglasses...</td>\n",
       "      <td>₹236</td>\n",
       "    </tr>\n",
       "    <tr>\n",
       "      <th>116</th>\n",
       "      <td>Fastrack</td>\n",
       "      <td>UV Protection, Gradient Rectangular, Spectacle...</td>\n",
       "      <td>₹214</td>\n",
       "    </tr>\n",
       "    <tr>\n",
       "      <th>117</th>\n",
       "      <td>NuVew</td>\n",
       "      <td>UV Protection Sports Sunglasses (Free Size)</td>\n",
       "      <td>₹149</td>\n",
       "    </tr>\n",
       "    <tr>\n",
       "      <th>118</th>\n",
       "      <td>VINCENT CHASE</td>\n",
       "      <td>by Lenskart Polarized, UV Protection Aviator S...</td>\n",
       "      <td>₹749</td>\n",
       "    </tr>\n",
       "    <tr>\n",
       "      <th>119</th>\n",
       "      <td>VINCENT CHASE</td>\n",
       "      <td>Polarized, UV Protection Aviator Sunglasses (55)</td>\n",
       "      <td>₹236</td>\n",
       "    </tr>\n",
       "  </tbody>\n",
       "</table>\n",
       "<p>120 rows × 3 columns</p>\n",
       "</div>"
      ],
      "text/plain": [
       "             Brand                                        Product Des   Price\n",
       "0     Singco India  Gradient, UV Protection Wayfarer Sunglasses (F...    ₹129\n",
       "1           Resist    Gradient, UV Protection Aviator Sunglasses (57)  ₹1,489\n",
       "2           PIRASO          UV Protection Rectangular Sunglasses (52)    ₹268\n",
       "3        Elligator  UV Protection, Gradient Rectangular Sunglasses...    ₹149\n",
       "4         Fastrack  Night Vision, Riding Glasses, Polarized, UV Pr...    ₹519\n",
       "..             ...                                                ...     ...\n",
       "115          NuVew  UV Protection Wayfarer, Rectangular Sunglasses...    ₹236\n",
       "116       Fastrack  UV Protection, Gradient Rectangular, Spectacle...    ₹214\n",
       "117          NuVew        UV Protection Sports Sunglasses (Free Size)    ₹149\n",
       "118  VINCENT CHASE  by Lenskart Polarized, UV Protection Aviator S...    ₹749\n",
       "119  VINCENT CHASE   Polarized, UV Protection Aviator Sunglasses (55)    ₹236\n",
       "\n",
       "[120 rows x 3 columns]"
      ]
     },
     "execution_count": 69,
     "metadata": {},
     "output_type": "execute_result"
    }
   ],
   "source": [
    "# make a data frame\n",
    "\n",
    "Flipkart=pd.DataFrame({'Brand':Sunglasses,'Product Des':des,'Price':Range})\n",
    "Flipkart"
   ]
  },
  {
   "cell_type": "markdown",
   "id": "59b6acf2",
   "metadata": {},
   "source": [
    "# Iphone in flipkart"
   ]
  },
  {
   "cell_type": "code",
   "execution_count": 79,
   "id": "18a13920",
   "metadata": {},
   "outputs": [],
   "source": [
    "driver=webdriver.Chrome(r'C:\\Users\\prks\\Downloads\\chromedriver.exe')"
   ]
  },
  {
   "cell_type": "code",
   "execution_count": 80,
   "id": "76071b0d",
   "metadata": {},
   "outputs": [],
   "source": [
    "driver.get('https://www.flipkart.com/apple-iphone-11-black-128-gb/p/itm8244e8d955aba?pid=MOBFWQ6BKRYBP5X8&lid=LSTMOBFWQ6BKRYBP5X8IBG6BS&marketplace=FLIPKART&cmpid=content_mobile_19714622341_x_8965229628_gmc_pla&tgi=sem,1,G,11214002,x,,,,,,,c,,,,,,,')"
   ]
  },
  {
   "cell_type": "code",
   "execution_count": 81,
   "id": "393ad60f",
   "metadata": {},
   "outputs": [],
   "source": [
    "Rating=[]\n",
    "Rev_Summ=[]\n",
    "Full_rev=[]"
   ]
  },
  {
   "cell_type": "code",
   "execution_count": 82,
   "id": "720afa8f",
   "metadata": {},
   "outputs": [],
   "source": [
    "start=0\n",
    "end=10\n",
    "for page in range(start,end):\n",
    "    rat=driver.find_elements(By.XPATH,'//div[@class=\"_3LWZlK _1BLPMq\"]')\n",
    "    for i in rat[0:100]:\n",
    "        Rating.append(i.text)\n",
    "    next_buttton=driver.find_element(By.CLASS_NAME,'_1LKTO3')\n",
    "    next_buttton.click\n",
    "    time.sleep(10)\n",
    "\n",
    "    \n"
   ]
  },
  {
   "cell_type": "code",
   "execution_count": 83,
   "id": "4de1eeb8",
   "metadata": {},
   "outputs": [
    {
     "data": {
      "text/plain": [
       "100"
      ]
     },
     "execution_count": 83,
     "metadata": {},
     "output_type": "execute_result"
    }
   ],
   "source": [
    "len(Rating)"
   ]
  },
  {
   "cell_type": "code",
   "execution_count": 85,
   "id": "48cbf219",
   "metadata": {},
   "outputs": [],
   "source": [
    "start=0\n",
    "end=10\n",
    "for page in range(start,end):\n",
    "    summery=driver.find_elements(By.XPATH,'//p[@class=\"_2-N8zT\"]')\n",
    "    for i in summery[0:100]:\n",
    "        Rev_Summ.append(i.text)\n",
    "    next_cllick=driver.find_element(By.CLASS_NAME,'_1LKTO3')\n",
    "    next_cllick.click()\n",
    "    time.sleep(10)"
   ]
  },
  {
   "cell_type": "code",
   "execution_count": 86,
   "id": "ec2c57aa",
   "metadata": {},
   "outputs": [
    {
     "data": {
      "text/plain": [
       "100"
      ]
     },
     "execution_count": 86,
     "metadata": {},
     "output_type": "execute_result"
    }
   ],
   "source": [
    "len(Rev_Summ)"
   ]
  },
  {
   "cell_type": "code",
   "execution_count": 87,
   "id": "2e89902b",
   "metadata": {},
   "outputs": [],
   "source": [
    "start=0\n",
    "end=10\n",
    "for page in range(start,end):\n",
    "    full=driver.find_elements(By.XPATH,'//div[@class=\"t-ZTKy\"]')\n",
    "    for i in full[0:100]:\n",
    "        Full_rev.append(i.text)\n",
    "    neext_Button=driver.find_element(By.CLASS_NAME,'_1LKTO3')\n",
    "    neext_Button.click\n",
    "    time.sleep(10)\n",
    "\n"
   ]
  },
  {
   "cell_type": "code",
   "execution_count": 88,
   "id": "0565f41a",
   "metadata": {},
   "outputs": [
    {
     "data": {
      "text/plain": [
       "100"
      ]
     },
     "execution_count": 88,
     "metadata": {},
     "output_type": "execute_result"
    }
   ],
   "source": [
    "len(Full_rev)"
   ]
  },
  {
   "cell_type": "code",
   "execution_count": 89,
   "id": "b515d1d5",
   "metadata": {},
   "outputs": [
    {
     "data": {
      "text/html": [
       "<div>\n",
       "<style scoped>\n",
       "    .dataframe tbody tr th:only-of-type {\n",
       "        vertical-align: middle;\n",
       "    }\n",
       "\n",
       "    .dataframe tbody tr th {\n",
       "        vertical-align: top;\n",
       "    }\n",
       "\n",
       "    .dataframe thead th {\n",
       "        text-align: right;\n",
       "    }\n",
       "</style>\n",
       "<table border=\"1\" class=\"dataframe\">\n",
       "  <thead>\n",
       "    <tr style=\"text-align: right;\">\n",
       "      <th></th>\n",
       "      <th>Rating</th>\n",
       "      <th>Review Summery</th>\n",
       "      <th>Full Review</th>\n",
       "    </tr>\n",
       "  </thead>\n",
       "  <tbody>\n",
       "    <tr>\n",
       "      <th>0</th>\n",
       "      <td>5</td>\n",
       "      <td>Simply awesome</td>\n",
       "      <td>This is my first iOS phone. I am very happy wi...</td>\n",
       "    </tr>\n",
       "    <tr>\n",
       "      <th>1</th>\n",
       "      <td>5</td>\n",
       "      <td>Perfect product!</td>\n",
       "      <td>Best and amazing product.....phone looks so pr...</td>\n",
       "    </tr>\n",
       "    <tr>\n",
       "      <th>2</th>\n",
       "      <td>5</td>\n",
       "      <td>Best in the market!</td>\n",
       "      <td>i11 is worthy to buy, too much happy with the ...</td>\n",
       "    </tr>\n",
       "    <tr>\n",
       "      <th>3</th>\n",
       "      <td>4</td>\n",
       "      <td>Value-for-money</td>\n",
       "      <td>It’s a must buy who is looking for an upgrade ...</td>\n",
       "    </tr>\n",
       "    <tr>\n",
       "      <th>4</th>\n",
       "      <td>5</td>\n",
       "      <td>Highly recommended</td>\n",
       "      <td>So far it’s been an AMAZING experience coming ...</td>\n",
       "    </tr>\n",
       "    <tr>\n",
       "      <th>...</th>\n",
       "      <td>...</td>\n",
       "      <td>...</td>\n",
       "      <td>...</td>\n",
       "    </tr>\n",
       "    <tr>\n",
       "      <th>95</th>\n",
       "      <td>5</td>\n",
       "      <td>Perfect product!</td>\n",
       "      <td>Value for money❤️❤️\\nIts awesome mobile phone ...</td>\n",
       "    </tr>\n",
       "    <tr>\n",
       "      <th>96</th>\n",
       "      <td>4</td>\n",
       "      <td>Highly recommended</td>\n",
       "      <td>iphone 11 is a very good phone to buy only if ...</td>\n",
       "    </tr>\n",
       "    <tr>\n",
       "      <th>97</th>\n",
       "      <td>5</td>\n",
       "      <td>Value-for-money</td>\n",
       "      <td>Just got this iphone 11\\nAnd it is most powerf...</td>\n",
       "    </tr>\n",
       "    <tr>\n",
       "      <th>98</th>\n",
       "      <td>5</td>\n",
       "      <td>Highly recommended</td>\n",
       "      <td>Amazing camera quality as expected, battery al...</td>\n",
       "    </tr>\n",
       "    <tr>\n",
       "      <th>99</th>\n",
       "      <td>5</td>\n",
       "      <td>Perfect product!</td>\n",
       "      <td>It is just awesome mobile for this price from ...</td>\n",
       "    </tr>\n",
       "  </tbody>\n",
       "</table>\n",
       "<p>100 rows × 3 columns</p>\n",
       "</div>"
      ],
      "text/plain": [
       "   Rating       Review Summery  \\\n",
       "0       5       Simply awesome   \n",
       "1       5     Perfect product!   \n",
       "2       5  Best in the market!   \n",
       "3       4      Value-for-money   \n",
       "4       5   Highly recommended   \n",
       "..    ...                  ...   \n",
       "95      5     Perfect product!   \n",
       "96      4   Highly recommended   \n",
       "97      5      Value-for-money   \n",
       "98      5   Highly recommended   \n",
       "99      5     Perfect product!   \n",
       "\n",
       "                                          Full Review  \n",
       "0   This is my first iOS phone. I am very happy wi...  \n",
       "1   Best and amazing product.....phone looks so pr...  \n",
       "2   i11 is worthy to buy, too much happy with the ...  \n",
       "3   It’s a must buy who is looking for an upgrade ...  \n",
       "4   So far it’s been an AMAZING experience coming ...  \n",
       "..                                                ...  \n",
       "95  Value for money❤️❤️\\nIts awesome mobile phone ...  \n",
       "96  iphone 11 is a very good phone to buy only if ...  \n",
       "97  Just got this iphone 11\\nAnd it is most powerf...  \n",
       "98  Amazing camera quality as expected, battery al...  \n",
       "99  It is just awesome mobile for this price from ...  \n",
       "\n",
       "[100 rows x 3 columns]"
      ]
     },
     "execution_count": 89,
     "metadata": {},
     "output_type": "execute_result"
    }
   ],
   "source": [
    "# make a dataframe\n",
    "\n",
    "Iphone=pd.DataFrame({'Rating':Rating,'Review Summery':Rev_Summ,'Full Review':Full_rev})\n",
    "Iphone"
   ]
  },
  {
   "cell_type": "markdown",
   "id": "6dbe3262",
   "metadata": {},
   "source": [
    "# Flipkart Sneakers"
   ]
  },
  {
   "cell_type": "code",
   "execution_count": 299,
   "id": "cc75f004",
   "metadata": {},
   "outputs": [],
   "source": [
    "driver=webdriver.Chrome(r'C:\\Users\\prks\\Downloads\\chromedriver.exe')"
   ]
  },
  {
   "cell_type": "code",
   "execution_count": 300,
   "id": "3ff0f7e8",
   "metadata": {},
   "outputs": [],
   "source": [
    "driver.get('https://www.flipkart.com/')"
   ]
  },
  {
   "cell_type": "code",
   "execution_count": 301,
   "id": "7c309113",
   "metadata": {},
   "outputs": [],
   "source": [
    "sneakers=driver.find_element(By.CLASS_NAME,'_3704LK')\n",
    "sneakers.send_keys('Sneakers')"
   ]
  },
  {
   "cell_type": "code",
   "execution_count": 303,
   "id": "98cfe1e1",
   "metadata": {},
   "outputs": [],
   "source": [
    "search=driver.find_element(By.CLASS_NAME,'L0Z3Pu')\n",
    "search.click()"
   ]
  },
  {
   "cell_type": "code",
   "execution_count": 304,
   "id": "33fcc6af",
   "metadata": {},
   "outputs": [],
   "source": [
    "Bran=[]"
   ]
  },
  {
   "cell_type": "code",
   "execution_count": 305,
   "id": "fe3f8a57",
   "metadata": {},
   "outputs": [],
   "source": [
    "start=0\n",
    "end=3\n",
    "\n",
    "for page in range(start,end):\n",
    "    brd=driver.find_elements(By.XPATH,'//div[@class=\"_2WkVRV\"]')\n",
    "    for i in brd[0:100]:\n",
    "        Bran.append(i.text)\n",
    "    Next_button=driver.find_element(By.CLASS_NAME,'_1LKTO3')\n",
    "    Next_button.click()\n",
    "    time.sleep(3)"
   ]
  },
  {
   "cell_type": "code",
   "execution_count": 306,
   "id": "0062b4ad",
   "metadata": {},
   "outputs": [
    {
     "data": {
      "text/plain": [
       "120"
      ]
     },
     "execution_count": 306,
     "metadata": {},
     "output_type": "execute_result"
    }
   ],
   "source": [
    "len(Bran)"
   ]
  },
  {
   "cell_type": "code",
   "execution_count": 317,
   "id": "694d3ea3",
   "metadata": {},
   "outputs": [],
   "source": [
    "description=[]"
   ]
  },
  {
   "cell_type": "code",
   "execution_count": 318,
   "id": "0d85f324",
   "metadata": {},
   "outputs": [],
   "source": [
    "start=0\n",
    "end=3\n",
    "\n",
    "for page in range(start,end):\n",
    "    pro_des=driver.find_elements(By.XPATH,'//a[@class=\"IRpwTa\"]')\n",
    "    for i in pro_des[0:100]:\n",
    "        description.append(i.text)\n",
    "    nuxt=driver.find_element(By.CLASS_NAME,'_1LKTO3')\n",
    "    nuxt.click()\n",
    "    time.sleep(3)"
   ]
  },
  {
   "cell_type": "code",
   "execution_count": 319,
   "id": "7deb93e5",
   "metadata": {},
   "outputs": [
    {
     "data": {
      "text/plain": [
       "118"
      ]
     },
     "execution_count": 319,
     "metadata": {},
     "output_type": "execute_result"
    }
   ],
   "source": [
    "len(dess)"
   ]
  },
  {
   "cell_type": "code",
   "execution_count": 320,
   "id": "f85da51c",
   "metadata": {},
   "outputs": [],
   "source": [
    "price=[]"
   ]
  },
  {
   "cell_type": "code",
   "execution_count": 321,
   "id": "1338f66d",
   "metadata": {},
   "outputs": [],
   "source": [
    "start=0\n",
    "end=3\n",
    "for page in range(start,end):\n",
    "    pur=driver.find_elements(By.XPATH,'//div[@class=\"_30jeq3\"]')\n",
    "    for i in pur[0:100]:\n",
    "        price.append(i.text)\n",
    "    nextx_butt=driver.find_element(By.CLASS_NAME,'_1LKTO3')\n",
    "    nextx_butt.click()\n",
    "    time.sleep(3)\n"
   ]
  },
  {
   "cell_type": "code",
   "execution_count": 322,
   "id": "fb171ac4",
   "metadata": {},
   "outputs": [
    {
     "data": {
      "text/plain": [
       "160"
      ]
     },
     "execution_count": 322,
     "metadata": {},
     "output_type": "execute_result"
    }
   ],
   "source": [
    "len(pr)"
   ]
  },
  {
   "cell_type": "code",
   "execution_count": null,
   "id": "dfccafa5",
   "metadata": {},
   "outputs": [],
   "source": [
    "# Sneakers brand description price length is not matching."
   ]
  },
  {
   "cell_type": "markdown",
   "id": "1314d406",
   "metadata": {},
   "source": [
    "# Amazon Laptop"
   ]
  },
  {
   "cell_type": "code",
   "execution_count": 177,
   "id": "e6a442bc",
   "metadata": {},
   "outputs": [],
   "source": [
    "driver=webdriver.Chrome(r'C:\\Users\\prks\\Downloads\\chromedriver.exe')"
   ]
  },
  {
   "cell_type": "code",
   "execution_count": 178,
   "id": "49a12023",
   "metadata": {},
   "outputs": [],
   "source": [
    "driver.get('https://www.amazon.in/')"
   ]
  },
  {
   "cell_type": "code",
   "execution_count": 179,
   "id": "f84a8f17",
   "metadata": {},
   "outputs": [],
   "source": [
    "laptop=driver.find_element(By.XPATH,'/html/body/div[1]/header/div/div[1]/div[2]/div/form/div[2]/div[1]/input')\n",
    "laptop.send_keys('Laptop')"
   ]
  },
  {
   "cell_type": "code",
   "execution_count": 181,
   "id": "07ef4c97",
   "metadata": {},
   "outputs": [],
   "source": [
    "search=driver.find_element(By.XPATH,'/html/body/div[1]/header/div/div[1]/div[2]/div/form/div[3]/div/span/input')\n",
    "search.click()"
   ]
  },
  {
   "cell_type": "code",
   "execution_count": 182,
   "id": "2523ee5a",
   "metadata": {},
   "outputs": [],
   "source": [
    "cpu_type=driver.find_element(By.XPATH,'/html/body/div[1]/div[2]/div[1]/div[2]/div/div[3]/span/div[1]/div/div/div[6]/ul[7]/li[10]/span/a/span')\n",
    "cpu_type.click()"
   ]
  },
  {
   "cell_type": "code",
   "execution_count": 183,
   "id": "405c5a6c",
   "metadata": {},
   "outputs": [],
   "source": [
    "tital=[]\n",
    "Rat=[]"
   ]
  },
  {
   "cell_type": "code",
   "execution_count": 184,
   "id": "793cf9bf",
   "metadata": {},
   "outputs": [],
   "source": [
    "title_tag=driver.find_elements(By.XPATH,'//div[@class=\"a-section a-spacing-none puis-padding-right-small s-title-instructions-style\"]')\n",
    "for i in title_tag[0:10]:\n",
    "    mod=i.text\n",
    "    tital.append(mod)"
   ]
  },
  {
   "cell_type": "code",
   "execution_count": 185,
   "id": "e7280da2",
   "metadata": {},
   "outputs": [
    {
     "data": {
      "text/plain": [
       "10"
      ]
     },
     "execution_count": 185,
     "metadata": {},
     "output_type": "execute_result"
    }
   ],
   "source": [
    "len(tital)"
   ]
  },
  {
   "cell_type": "code",
   "execution_count": 186,
   "id": "43a0eddd",
   "metadata": {},
   "outputs": [],
   "source": [
    "rating_tag=driver.find_elements(By.XPATH,'//span[@class=\"a-size-base\"]')\n",
    "for i in rating_tag[0:10]:\n",
    "    rats=i.text\n",
    "    Rat.append(rats)"
   ]
  },
  {
   "cell_type": "code",
   "execution_count": 187,
   "id": "11c130c5",
   "metadata": {},
   "outputs": [
    {
     "data": {
      "text/plain": [
       "10"
      ]
     },
     "execution_count": 187,
     "metadata": {},
     "output_type": "execute_result"
    }
   ],
   "source": [
    "len(Rat)"
   ]
  },
  {
   "cell_type": "code",
   "execution_count": 188,
   "id": "91c7835f",
   "metadata": {},
   "outputs": [],
   "source": [
    "Price=[]"
   ]
  },
  {
   "cell_type": "code",
   "execution_count": 189,
   "id": "db42cfcb",
   "metadata": {},
   "outputs": [],
   "source": [
    "par=driver.find_elements(By.XPATH,'//span[@class=\"a-price-whole\"]')\n",
    "for i in par[0:10]:\n",
    "    tit=i.text\n",
    "    Price.append(tit)"
   ]
  },
  {
   "cell_type": "code",
   "execution_count": 190,
   "id": "0f3ca425",
   "metadata": {},
   "outputs": [
    {
     "data": {
      "text/plain": [
       "10"
      ]
     },
     "execution_count": 190,
     "metadata": {},
     "output_type": "execute_result"
    }
   ],
   "source": [
    "len(Price)"
   ]
  },
  {
   "cell_type": "code",
   "execution_count": 191,
   "id": "06c1d62e",
   "metadata": {},
   "outputs": [
    {
     "data": {
      "text/html": [
       "<div>\n",
       "<style scoped>\n",
       "    .dataframe tbody tr th:only-of-type {\n",
       "        vertical-align: middle;\n",
       "    }\n",
       "\n",
       "    .dataframe tbody tr th {\n",
       "        vertical-align: top;\n",
       "    }\n",
       "\n",
       "    .dataframe thead th {\n",
       "        text-align: right;\n",
       "    }\n",
       "</style>\n",
       "<table border=\"1\" class=\"dataframe\">\n",
       "  <thead>\n",
       "    <tr style=\"text-align: right;\">\n",
       "      <th></th>\n",
       "      <th>Title</th>\n",
       "      <th>Ratings</th>\n",
       "      <th>Price</th>\n",
       "    </tr>\n",
       "  </thead>\n",
       "  <tbody>\n",
       "    <tr>\n",
       "      <th>0</th>\n",
       "      <td>Samsung Galaxy Book2 (NP750) Intel 12th Gen co...</td>\n",
       "      <td>4.0</td>\n",
       "      <td>79,990</td>\n",
       "    </tr>\n",
       "    <tr>\n",
       "      <th>1</th>\n",
       "      <td>(Renewed) HP ELITEBOOK 840 G5 (Core i7 8th GEN...</td>\n",
       "      <td>4.3</td>\n",
       "      <td>31,490</td>\n",
       "    </tr>\n",
       "    <tr>\n",
       "      <th>2</th>\n",
       "      <td>Lenovo IdeaPad Slim 5 Intel Core i7 12th Gen 1...</td>\n",
       "      <td>4.1</td>\n",
       "      <td>82,990</td>\n",
       "    </tr>\n",
       "    <tr>\n",
       "      <th>3</th>\n",
       "      <td>LG Gram16 Intel EVO-[12th Gen Core i7/Win11/16...</td>\n",
       "      <td>4.3</td>\n",
       "      <td>89,990</td>\n",
       "    </tr>\n",
       "    <tr>\n",
       "      <th>4</th>\n",
       "      <td>Fujitsu UH-X 11th Gen Intel Core i7 13.3\" FHD ...</td>\n",
       "      <td>2.0</td>\n",
       "      <td>71,991</td>\n",
       "    </tr>\n",
       "    <tr>\n",
       "      <th>5</th>\n",
       "      <td>(Renewed) HP ELITEBOOK 840 G5 (Core i7 8th GEN...</td>\n",
       "      <td>4.4</td>\n",
       "      <td>33,999</td>\n",
       "    </tr>\n",
       "    <tr>\n",
       "      <th>6</th>\n",
       "      <td>ASUS TUF Gaming F15 (2022), 15.6\"(39.62 cms) F...</td>\n",
       "      <td>4.0</td>\n",
       "      <td>94,990</td>\n",
       "    </tr>\n",
       "    <tr>\n",
       "      <th>7</th>\n",
       "      <td>ASUS Vivobook S15 OLED 2022, 15.6\" 39.62 cms F...</td>\n",
       "      <td>4.1</td>\n",
       "      <td>84,990</td>\n",
       "    </tr>\n",
       "    <tr>\n",
       "      <th>8</th>\n",
       "      <td>ASUS TUF Gaming F15 (2022), 15.6\" (39.62 cms) ...</td>\n",
       "      <td>4.5</td>\n",
       "      <td>94,990</td>\n",
       "    </tr>\n",
       "    <tr>\n",
       "      <th>9</th>\n",
       "      <td>ASUS Zenbook Pro 14 Duo OLED (2022) Dual Scree...</td>\n",
       "      <td>3.6</td>\n",
       "      <td>1,39,990</td>\n",
       "    </tr>\n",
       "  </tbody>\n",
       "</table>\n",
       "</div>"
      ],
      "text/plain": [
       "                                               Title Ratings     Price\n",
       "0  Samsung Galaxy Book2 (NP750) Intel 12th Gen co...     4.0    79,990\n",
       "1  (Renewed) HP ELITEBOOK 840 G5 (Core i7 8th GEN...     4.3    31,490\n",
       "2  Lenovo IdeaPad Slim 5 Intel Core i7 12th Gen 1...     4.1    82,990\n",
       "3  LG Gram16 Intel EVO-[12th Gen Core i7/Win11/16...     4.3    89,990\n",
       "4  Fujitsu UH-X 11th Gen Intel Core i7 13.3\" FHD ...     2.0    71,991\n",
       "5  (Renewed) HP ELITEBOOK 840 G5 (Core i7 8th GEN...     4.4    33,999\n",
       "6  ASUS TUF Gaming F15 (2022), 15.6\"(39.62 cms) F...     4.0    94,990\n",
       "7  ASUS Vivobook S15 OLED 2022, 15.6\" 39.62 cms F...     4.1    84,990\n",
       "8  ASUS TUF Gaming F15 (2022), 15.6\" (39.62 cms) ...     4.5    94,990\n",
       "9  ASUS Zenbook Pro 14 Duo OLED (2022) Dual Scree...     3.6  1,39,990"
      ]
     },
     "execution_count": 191,
     "metadata": {},
     "output_type": "execute_result"
    }
   ],
   "source": [
    "# make a dataframe\n",
    "\n",
    "Laptop=pd.DataFrame({'Title':tital,'Ratings':Rat,'Price':Price})\n",
    "Laptop"
   ]
  },
  {
   "cell_type": "markdown",
   "id": "2a5da5b3",
   "metadata": {},
   "source": [
    "# 1000 quots of all time"
   ]
  },
  {
   "cell_type": "code",
   "execution_count": 254,
   "id": "c2bee2b4",
   "metadata": {},
   "outputs": [],
   "source": [
    "driver=webdriver.Chrome(r'C:\\Users\\prks\\Downloads\\chromedriver.exe')"
   ]
  },
  {
   "cell_type": "code",
   "execution_count": 255,
   "id": "f657329c",
   "metadata": {},
   "outputs": [],
   "source": [
    "driver.get('https://www.azquotes.com/')"
   ]
  },
  {
   "cell_type": "code",
   "execution_count": 256,
   "id": "373fcd42",
   "metadata": {},
   "outputs": [],
   "source": [
    "top_quots=driver.find_element(By.XPATH,'/html/body/div[1]/div[1]/div[1]/div/div[3]/ul/li[5]/a')\n",
    "top_quots.click()"
   ]
  },
  {
   "cell_type": "code",
   "execution_count": 257,
   "id": "7dcfce56",
   "metadata": {},
   "outputs": [],
   "source": [
    "Quote=[]\n",
    "Author=[]\n",
    "Type=[]"
   ]
  },
  {
   "cell_type": "code",
   "execution_count": 258,
   "id": "8345cfe3",
   "metadata": {},
   "outputs": [],
   "source": [
    "start=0\n",
    "end=10\n",
    "\n",
    "for page in range(start,end):\n",
    "    qute=driver.find_elements(By.XPATH,'//a[@class=\"title\"]')\n",
    "    for i in qute[0:1000]:\n",
    "        Quote.append(i.text)\n",
    "    Nuxt_button=driver.find_element(By.XPATH,'/html/body/div[1]/div[2]/div/div/div/div[1]/div/div[4]/li[12]/a')\n",
    "    Nuxt_button.click()\n",
    "    time.sleep(10)"
   ]
  },
  {
   "cell_type": "code",
   "execution_count": 259,
   "id": "c482a6f4",
   "metadata": {},
   "outputs": [
    {
     "data": {
      "text/plain": [
       "1000"
      ]
     },
     "execution_count": 259,
     "metadata": {},
     "output_type": "execute_result"
    }
   ],
   "source": [
    "len(Quote)"
   ]
  },
  {
   "cell_type": "code",
   "execution_count": 260,
   "id": "e581c347",
   "metadata": {},
   "outputs": [],
   "source": [
    "start=0\n",
    "end=10\n",
    "\n",
    "for page in range(start,end):\n",
    "    att=driver.find_elements(By.XPATH,'//div[@class=\"author\"]')\n",
    "    for i in att[0:100]:\n",
    "        Author.append(i.text)\n",
    "    Nxt=driver.find_element(By.XPATH,'/html/body/div[1]/div[2]/div/div/div/div[1]/div/div[4]/li[12]/a')\n",
    "    Nxt.click()\n",
    "    time.sleep(10)"
   ]
  },
  {
   "cell_type": "code",
   "execution_count": 261,
   "id": "3bf273a0",
   "metadata": {},
   "outputs": [
    {
     "data": {
      "text/plain": [
       "1000"
      ]
     },
     "execution_count": 261,
     "metadata": {},
     "output_type": "execute_result"
    }
   ],
   "source": [
    "len(Author)"
   ]
  },
  {
   "cell_type": "code",
   "execution_count": 262,
   "id": "3ebfc294",
   "metadata": {},
   "outputs": [],
   "source": [
    "start=0\n",
    "end=10\n",
    "for page in range(start,end):\n",
    "    ty=driver.find_elements(By.XPATH,'//div[@class=\"tags\"]')\n",
    "    for i in ty[0:1000]:\n",
    "        Type.append(i.text)\n",
    "    nexttt=driver.find_element(By.XPATH,'/html/body/div[1]/div[2]/div/div/div/div[1]/div/div[4]/li[12]')\n",
    "    nexttt.click()\n",
    "    time.sleep(10)"
   ]
  },
  {
   "cell_type": "code",
   "execution_count": 263,
   "id": "1d449337",
   "metadata": {},
   "outputs": [
    {
     "data": {
      "text/plain": [
       "1000"
      ]
     },
     "execution_count": 263,
     "metadata": {},
     "output_type": "execute_result"
    }
   ],
   "source": [
    "len(Type)"
   ]
  },
  {
   "cell_type": "code",
   "execution_count": 264,
   "id": "bea661de",
   "metadata": {},
   "outputs": [
    {
     "data": {
      "text/html": [
       "<div>\n",
       "<style scoped>\n",
       "    .dataframe tbody tr th:only-of-type {\n",
       "        vertical-align: middle;\n",
       "    }\n",
       "\n",
       "    .dataframe tbody tr th {\n",
       "        vertical-align: top;\n",
       "    }\n",
       "\n",
       "    .dataframe thead th {\n",
       "        text-align: right;\n",
       "    }\n",
       "</style>\n",
       "<table border=\"1\" class=\"dataframe\">\n",
       "  <thead>\n",
       "    <tr style=\"text-align: right;\">\n",
       "      <th></th>\n",
       "      <th>Quote</th>\n",
       "      <th>Author</th>\n",
       "      <th>Type of quotes</th>\n",
       "    </tr>\n",
       "  </thead>\n",
       "  <tbody>\n",
       "    <tr>\n",
       "      <th>0</th>\n",
       "      <td>The essence of strategy is choosing what not t...</td>\n",
       "      <td>Michael Porter</td>\n",
       "      <td>Inspirational, Life, Success</td>\n",
       "    </tr>\n",
       "    <tr>\n",
       "      <th>1</th>\n",
       "      <td>One cannot and must not try to erase the past ...</td>\n",
       "      <td>Golda Meir</td>\n",
       "      <td>Peace, War, Government</td>\n",
       "    </tr>\n",
       "    <tr>\n",
       "      <th>2</th>\n",
       "      <td>Patriotism means to stand by the country. It d...</td>\n",
       "      <td>Theodore Roosevelt</td>\n",
       "      <td>Life, Strength, Courage</td>\n",
       "    </tr>\n",
       "    <tr>\n",
       "      <th>3</th>\n",
       "      <td>Death is something inevitable. When a man has ...</td>\n",
       "      <td>Nelson Mandela</td>\n",
       "      <td>Positive, Family, Trust</td>\n",
       "    </tr>\n",
       "    <tr>\n",
       "      <th>4</th>\n",
       "      <td>You have to love a nation that celebrates its ...</td>\n",
       "      <td>Erma Bombeck</td>\n",
       "      <td>Inspirational, Motivational, Teacher</td>\n",
       "    </tr>\n",
       "    <tr>\n",
       "      <th>...</th>\n",
       "      <td>...</td>\n",
       "      <td>...</td>\n",
       "      <td>...</td>\n",
       "    </tr>\n",
       "    <tr>\n",
       "      <th>995</th>\n",
       "      <td>Regret for the things we did can be tempered b...</td>\n",
       "      <td>Sydney J. Harris</td>\n",
       "      <td>Love, Inspirational, Motivational</td>\n",
       "    </tr>\n",
       "    <tr>\n",
       "      <th>996</th>\n",
       "      <td>America... just a nation of two hundred millio...</td>\n",
       "      <td>Hunter S. Thompson</td>\n",
       "      <td>Gun, Two, Qualms About</td>\n",
       "    </tr>\n",
       "    <tr>\n",
       "      <th>997</th>\n",
       "      <td>For every disciplined effort there is a multip...</td>\n",
       "      <td>Jim Rohn</td>\n",
       "      <td>Inspirational, Greatness, Best Effort</td>\n",
       "    </tr>\n",
       "    <tr>\n",
       "      <th>998</th>\n",
       "      <td>The spiritual journey is individual, highly pe...</td>\n",
       "      <td>Ram Dass</td>\n",
       "      <td>Spiritual, Truth, Yoga</td>\n",
       "    </tr>\n",
       "    <tr>\n",
       "      <th>999</th>\n",
       "      <td>The mind is not a vessel to be filled but a fi...</td>\n",
       "      <td>Plutarch</td>\n",
       "      <td>Inspirational, Leadership, Education</td>\n",
       "    </tr>\n",
       "  </tbody>\n",
       "</table>\n",
       "<p>1000 rows × 3 columns</p>\n",
       "</div>"
      ],
      "text/plain": [
       "                                                 Quote              Author  \\\n",
       "0    The essence of strategy is choosing what not t...      Michael Porter   \n",
       "1    One cannot and must not try to erase the past ...          Golda Meir   \n",
       "2    Patriotism means to stand by the country. It d...  Theodore Roosevelt   \n",
       "3    Death is something inevitable. When a man has ...      Nelson Mandela   \n",
       "4    You have to love a nation that celebrates its ...        Erma Bombeck   \n",
       "..                                                 ...                 ...   \n",
       "995  Regret for the things we did can be tempered b...    Sydney J. Harris   \n",
       "996  America... just a nation of two hundred millio...  Hunter S. Thompson   \n",
       "997  For every disciplined effort there is a multip...            Jim Rohn   \n",
       "998  The spiritual journey is individual, highly pe...            Ram Dass   \n",
       "999  The mind is not a vessel to be filled but a fi...            Plutarch   \n",
       "\n",
       "                            Type of quotes  \n",
       "0             Inspirational, Life, Success  \n",
       "1                   Peace, War, Government  \n",
       "2                  Life, Strength, Courage  \n",
       "3                  Positive, Family, Trust  \n",
       "4     Inspirational, Motivational, Teacher  \n",
       "..                                     ...  \n",
       "995      Love, Inspirational, Motivational  \n",
       "996                 Gun, Two, Qualms About  \n",
       "997  Inspirational, Greatness, Best Effort  \n",
       "998                 Spiritual, Truth, Yoga  \n",
       "999   Inspirational, Leadership, Education  \n",
       "\n",
       "[1000 rows x 3 columns]"
      ]
     },
     "execution_count": 264,
     "metadata": {},
     "output_type": "execute_result"
    }
   ],
   "source": [
    "# make a dataframe\n",
    "\n",
    "Qutotsss=pd.DataFrame({'Quote':Quote,'Author':Author,'Type of quotes':Type})\n",
    "Qutotsss"
   ]
  },
  {
   "cell_type": "code",
   "execution_count": null,
   "id": "ff395191",
   "metadata": {},
   "outputs": [],
   "source": []
  },
  {
   "cell_type": "code",
   "execution_count": null,
   "id": "87236f23",
   "metadata": {},
   "outputs": [],
   "source": []
  },
  {
   "cell_type": "markdown",
   "id": "740bb893",
   "metadata": {},
   "source": [
    "# respected former Prime Ministers of India"
   ]
  },
  {
   "cell_type": "code",
   "execution_count": 238,
   "id": "6f41c5ff",
   "metadata": {},
   "outputs": [],
   "source": [
    "driver=webdriver.Chrome(r'C:\\Users\\prks\\Downloads\\chromedriver.exe')"
   ]
  },
  {
   "cell_type": "code",
   "execution_count": 239,
   "id": "d34825d0",
   "metadata": {},
   "outputs": [],
   "source": [
    "driver.get('https://www.jagranjosh.com/')"
   ]
  },
  {
   "cell_type": "code",
   "execution_count": 240,
   "id": "cf78ccf3",
   "metadata": {},
   "outputs": [],
   "source": [
    "gk=driver.find_element(By.XPATH,'/html/body/div/div[1]/div/div[1]/div/div[5]/div/div[1]/header/div[3]/ul/li[9]/a')\n",
    "gk.click()"
   ]
  },
  {
   "cell_type": "code",
   "execution_count": 241,
   "id": "049a8f50",
   "metadata": {},
   "outputs": [],
   "source": [
    "pm=driver.find_element(By.XPATH,'/html/body/div[1]/div/div/div[2]/div/div[10]/div/div/ul/li[2]/a')\n",
    "pm.click()"
   ]
  },
  {
   "cell_type": "code",
   "execution_count": 242,
   "id": "6123bd83",
   "metadata": {},
   "outputs": [],
   "source": [
    "Name=[]\n",
    "Born_Dead=[]\n",
    "Term=[]\n",
    "Remark=[]"
   ]
  },
  {
   "cell_type": "code",
   "execution_count": 243,
   "id": "c7dc5fd0",
   "metadata": {},
   "outputs": [],
   "source": [
    "prime=driver.find_elements(By.XPATH,'//div[@class=\"table-box\"]/table/tbody/tr/td[2]/p')\n",
    "for i in prime:\n",
    "    pr=i.text\n",
    "    Name.append(pr)\n",
    "    "
   ]
  },
  {
   "cell_type": "code",
   "execution_count": 244,
   "id": "4af42e51",
   "metadata": {},
   "outputs": [
    {
     "data": {
      "text/plain": [
       "18"
      ]
     },
     "execution_count": 244,
     "metadata": {},
     "output_type": "execute_result"
    }
   ],
   "source": [
    "len(Name)"
   ]
  },
  {
   "cell_type": "code",
   "execution_count": 247,
   "id": "71074b6c",
   "metadata": {},
   "outputs": [],
   "source": [
    "dad=driver.find_elements(By.XPATH,'//div[@class=\"table-box\"]/table/tbody/tr/td[2]/p')\n",
    "for i in dad:\n",
    "    jivan=i.text\n",
    "    Born_Dead.append(jivan)"
   ]
  },
  {
   "cell_type": "code",
   "execution_count": 248,
   "id": "9a050bc4",
   "metadata": {},
   "outputs": [
    {
     "data": {
      "text/plain": [
       "18"
      ]
     },
     "execution_count": 248,
     "metadata": {},
     "output_type": "execute_result"
    }
   ],
   "source": [
    "len(Born_Dead)"
   ]
  },
  {
   "cell_type": "code",
   "execution_count": 249,
   "id": "cee38d96",
   "metadata": {},
   "outputs": [],
   "source": [
    "life=driver.find_elements(By.XPATH,'//div[@class=\"table-box\"]/table/tbody/tr/td[2]/p')\n",
    "for i in life:\n",
    "    trm=i.text\n",
    "    Term.append(trm)"
   ]
  },
  {
   "cell_type": "code",
   "execution_count": 250,
   "id": "dc762cf5",
   "metadata": {},
   "outputs": [
    {
     "data": {
      "text/plain": [
       "18"
      ]
     },
     "execution_count": 250,
     "metadata": {},
     "output_type": "execute_result"
    }
   ],
   "source": [
    "len(Term)"
   ]
  },
  {
   "cell_type": "code",
   "execution_count": 251,
   "id": "b06b6f35",
   "metadata": {},
   "outputs": [],
   "source": [
    "rmk=driver.find_elements(By.XPATH,'//div[@class=\"table-box\"]/table/tbody/tr/td[2]/p')\n",
    "for i in rmk:\n",
    "    rghk=i.text\n",
    "    Remark.append(rghk)"
   ]
  },
  {
   "cell_type": "code",
   "execution_count": 252,
   "id": "655cb047",
   "metadata": {},
   "outputs": [
    {
     "data": {
      "text/plain": [
       "18"
      ]
     },
     "execution_count": 252,
     "metadata": {},
     "output_type": "execute_result"
    }
   ],
   "source": [
    "len(Remark)"
   ]
  },
  {
   "cell_type": "code",
   "execution_count": 253,
   "id": "e52a4ccc",
   "metadata": {},
   "outputs": [
    {
     "data": {
      "text/html": [
       "<div>\n",
       "<style scoped>\n",
       "    .dataframe tbody tr th:only-of-type {\n",
       "        vertical-align: middle;\n",
       "    }\n",
       "\n",
       "    .dataframe tbody tr th {\n",
       "        vertical-align: top;\n",
       "    }\n",
       "\n",
       "    .dataframe thead th {\n",
       "        text-align: right;\n",
       "    }\n",
       "</style>\n",
       "<table border=\"1\" class=\"dataframe\">\n",
       "  <thead>\n",
       "    <tr style=\"text-align: right;\">\n",
       "      <th></th>\n",
       "      <th>Name</th>\n",
       "      <th>Born_Dead</th>\n",
       "      <th>Term of office</th>\n",
       "      <th>Remark</th>\n",
       "    </tr>\n",
       "  </thead>\n",
       "  <tbody>\n",
       "    <tr>\n",
       "      <th>0</th>\n",
       "      <td>Jawahar Lal Nehru</td>\n",
       "      <td>Jawahar Lal Nehru</td>\n",
       "      <td>Jawahar Lal Nehru</td>\n",
       "      <td>Jawahar Lal Nehru</td>\n",
       "    </tr>\n",
       "    <tr>\n",
       "      <th>1</th>\n",
       "      <td>Gulzarilal Nanda (Acting)</td>\n",
       "      <td>Gulzarilal Nanda (Acting)</td>\n",
       "      <td>Gulzarilal Nanda (Acting)</td>\n",
       "      <td>Gulzarilal Nanda (Acting)</td>\n",
       "    </tr>\n",
       "    <tr>\n",
       "      <th>2</th>\n",
       "      <td>Lal Bahadur Shastri</td>\n",
       "      <td>Lal Bahadur Shastri</td>\n",
       "      <td>Lal Bahadur Shastri</td>\n",
       "      <td>Lal Bahadur Shastri</td>\n",
       "    </tr>\n",
       "    <tr>\n",
       "      <th>3</th>\n",
       "      <td>Gulzari Lal Nanda  (Acting)</td>\n",
       "      <td>Gulzari Lal Nanda  (Acting)</td>\n",
       "      <td>Gulzari Lal Nanda  (Acting)</td>\n",
       "      <td>Gulzari Lal Nanda  (Acting)</td>\n",
       "    </tr>\n",
       "    <tr>\n",
       "      <th>4</th>\n",
       "      <td>Indira Gandhi</td>\n",
       "      <td>Indira Gandhi</td>\n",
       "      <td>Indira Gandhi</td>\n",
       "      <td>Indira Gandhi</td>\n",
       "    </tr>\n",
       "    <tr>\n",
       "      <th>5</th>\n",
       "      <td>Morarji Desai</td>\n",
       "      <td>Morarji Desai</td>\n",
       "      <td>Morarji Desai</td>\n",
       "      <td>Morarji Desai</td>\n",
       "    </tr>\n",
       "    <tr>\n",
       "      <th>6</th>\n",
       "      <td>Charan Singh</td>\n",
       "      <td>Charan Singh</td>\n",
       "      <td>Charan Singh</td>\n",
       "      <td>Charan Singh</td>\n",
       "    </tr>\n",
       "    <tr>\n",
       "      <th>7</th>\n",
       "      <td>Indira Gandhi</td>\n",
       "      <td>Indira Gandhi</td>\n",
       "      <td>Indira Gandhi</td>\n",
       "      <td>Indira Gandhi</td>\n",
       "    </tr>\n",
       "    <tr>\n",
       "      <th>8</th>\n",
       "      <td>Rajiv Gandhi</td>\n",
       "      <td>Rajiv Gandhi</td>\n",
       "      <td>Rajiv Gandhi</td>\n",
       "      <td>Rajiv Gandhi</td>\n",
       "    </tr>\n",
       "    <tr>\n",
       "      <th>9</th>\n",
       "      <td>V. P. Singh</td>\n",
       "      <td>V. P. Singh</td>\n",
       "      <td>V. P. Singh</td>\n",
       "      <td>V. P. Singh</td>\n",
       "    </tr>\n",
       "    <tr>\n",
       "      <th>10</th>\n",
       "      <td>Chandra Shekhar</td>\n",
       "      <td>Chandra Shekhar</td>\n",
       "      <td>Chandra Shekhar</td>\n",
       "      <td>Chandra Shekhar</td>\n",
       "    </tr>\n",
       "    <tr>\n",
       "      <th>11</th>\n",
       "      <td>P. V. Narasimha Rao</td>\n",
       "      <td>P. V. Narasimha Rao</td>\n",
       "      <td>P. V. Narasimha Rao</td>\n",
       "      <td>P. V. Narasimha Rao</td>\n",
       "    </tr>\n",
       "    <tr>\n",
       "      <th>12</th>\n",
       "      <td>Atal Bihari Vajpayee</td>\n",
       "      <td>Atal Bihari Vajpayee</td>\n",
       "      <td>Atal Bihari Vajpayee</td>\n",
       "      <td>Atal Bihari Vajpayee</td>\n",
       "    </tr>\n",
       "    <tr>\n",
       "      <th>13</th>\n",
       "      <td>H. D. Deve Gowda</td>\n",
       "      <td>H. D. Deve Gowda</td>\n",
       "      <td>H. D. Deve Gowda</td>\n",
       "      <td>H. D. Deve Gowda</td>\n",
       "    </tr>\n",
       "    <tr>\n",
       "      <th>14</th>\n",
       "      <td>Inder Kumar Gujral</td>\n",
       "      <td>Inder Kumar Gujral</td>\n",
       "      <td>Inder Kumar Gujral</td>\n",
       "      <td>Inder Kumar Gujral</td>\n",
       "    </tr>\n",
       "    <tr>\n",
       "      <th>15</th>\n",
       "      <td>Atal Bihari Vajpayee</td>\n",
       "      <td>Atal Bihari Vajpayee</td>\n",
       "      <td>Atal Bihari Vajpayee</td>\n",
       "      <td>Atal Bihari Vajpayee</td>\n",
       "    </tr>\n",
       "    <tr>\n",
       "      <th>16</th>\n",
       "      <td>Manmohan Singh</td>\n",
       "      <td>Manmohan Singh</td>\n",
       "      <td>Manmohan Singh</td>\n",
       "      <td>Manmohan Singh</td>\n",
       "    </tr>\n",
       "    <tr>\n",
       "      <th>17</th>\n",
       "      <td>Narendra Modi</td>\n",
       "      <td>Narendra Modi</td>\n",
       "      <td>Narendra Modi</td>\n",
       "      <td>Narendra Modi</td>\n",
       "    </tr>\n",
       "  </tbody>\n",
       "</table>\n",
       "</div>"
      ],
      "text/plain": [
       "                           Name                    Born_Dead  \\\n",
       "0             Jawahar Lal Nehru            Jawahar Lal Nehru   \n",
       "1     Gulzarilal Nanda (Acting)    Gulzarilal Nanda (Acting)   \n",
       "2           Lal Bahadur Shastri          Lal Bahadur Shastri   \n",
       "3   Gulzari Lal Nanda  (Acting)  Gulzari Lal Nanda  (Acting)   \n",
       "4                 Indira Gandhi                Indira Gandhi   \n",
       "5                 Morarji Desai                Morarji Desai   \n",
       "6                  Charan Singh                 Charan Singh   \n",
       "7                 Indira Gandhi                Indira Gandhi   \n",
       "8                  Rajiv Gandhi                 Rajiv Gandhi   \n",
       "9                   V. P. Singh                  V. P. Singh   \n",
       "10              Chandra Shekhar              Chandra Shekhar   \n",
       "11          P. V. Narasimha Rao          P. V. Narasimha Rao   \n",
       "12         Atal Bihari Vajpayee         Atal Bihari Vajpayee   \n",
       "13             H. D. Deve Gowda             H. D. Deve Gowda   \n",
       "14           Inder Kumar Gujral           Inder Kumar Gujral   \n",
       "15         Atal Bihari Vajpayee         Atal Bihari Vajpayee   \n",
       "16               Manmohan Singh               Manmohan Singh   \n",
       "17                Narendra Modi                Narendra Modi   \n",
       "\n",
       "                 Term of office                       Remark  \n",
       "0             Jawahar Lal Nehru            Jawahar Lal Nehru  \n",
       "1     Gulzarilal Nanda (Acting)    Gulzarilal Nanda (Acting)  \n",
       "2           Lal Bahadur Shastri          Lal Bahadur Shastri  \n",
       "3   Gulzari Lal Nanda  (Acting)  Gulzari Lal Nanda  (Acting)  \n",
       "4                 Indira Gandhi                Indira Gandhi  \n",
       "5                 Morarji Desai                Morarji Desai  \n",
       "6                  Charan Singh                 Charan Singh  \n",
       "7                 Indira Gandhi                Indira Gandhi  \n",
       "8                  Rajiv Gandhi                 Rajiv Gandhi  \n",
       "9                   V. P. Singh                  V. P. Singh  \n",
       "10              Chandra Shekhar              Chandra Shekhar  \n",
       "11          P. V. Narasimha Rao          P. V. Narasimha Rao  \n",
       "12         Atal Bihari Vajpayee         Atal Bihari Vajpayee  \n",
       "13             H. D. Deve Gowda             H. D. Deve Gowda  \n",
       "14           Inder Kumar Gujral           Inder Kumar Gujral  \n",
       "15         Atal Bihari Vajpayee         Atal Bihari Vajpayee  \n",
       "16               Manmohan Singh               Manmohan Singh  \n",
       "17                Narendra Modi                Narendra Modi  "
      ]
     },
     "execution_count": 253,
     "metadata": {},
     "output_type": "execute_result"
    }
   ],
   "source": [
    "# make a dataframe\n",
    "\n",
    "Prime_minister=pd.DataFrame({'Name':Name,'Born_Dead':Born_Dead,'Term of office':Term,'Remark':Remark})\n",
    "Prime_minister"
   ]
  },
  {
   "cell_type": "markdown",
   "id": "a3851370",
   "metadata": {},
   "source": [
    "# List of 50 Most expensive cars in the world"
   ]
  },
  {
   "cell_type": "code",
   "execution_count": 288,
   "id": "337851f0",
   "metadata": {},
   "outputs": [],
   "source": [
    "driver=webdriver.Chrome(r'C:\\Users\\prks\\Downloads\\chromedriver.exe')"
   ]
  },
  {
   "cell_type": "code",
   "execution_count": 289,
   "id": "5bec7838",
   "metadata": {},
   "outputs": [],
   "source": [
    "driver.get('https://www.motor1.com/')"
   ]
  },
  {
   "cell_type": "code",
   "execution_count": 290,
   "id": "5f1dba3e",
   "metadata": {},
   "outputs": [],
   "source": [
    "List=driver.find_element(By.XPATH,'/html/body/div[4]/div[1]/div[3]/ul/li[6]/ul/li[1]/a')\n",
    "List.click()"
   ]
  },
  {
   "cell_type": "code",
   "execution_count": 291,
   "id": "5f244cbc",
   "metadata": {},
   "outputs": [],
   "source": [
    "top=driver.find_element(By.XPATH,'/html/body/div[3]/div[8]/div[1]/div[1]/div/div/div[8]/div/div[1]/h3/a')\n"
   ]
  },
  {
   "cell_type": "code",
   "execution_count": 293,
   "id": "d307e784",
   "metadata": {},
   "outputs": [],
   "source": [
    "top.click()"
   ]
  },
  {
   "cell_type": "code",
   "execution_count": 294,
   "id": "1201f65e",
   "metadata": {},
   "outputs": [],
   "source": [
    "Car_name=[]\n",
    "Price=[]"
   ]
  },
  {
   "cell_type": "code",
   "execution_count": 295,
   "id": "76337b79",
   "metadata": {},
   "outputs": [],
   "source": [
    "caaa=driver.find_elements(By.XPATH,'//h3[@class=\"subheader\"]')\n",
    "for i in caaa[0:50]:\n",
    "    canam=i.text\n",
    "    Car_name.append(canam)\n"
   ]
  },
  {
   "cell_type": "code",
   "execution_count": null,
   "id": "a474bba4",
   "metadata": {},
   "outputs": [],
   "source": [
    "pe=driver.find_elements(By.XPATH,'')"
   ]
  },
  {
   "cell_type": "code",
   "execution_count": null,
   "id": "87ce8573",
   "metadata": {},
   "outputs": [],
   "source": [
    "# I am not geting the class name or xpath of price of cars"
   ]
  },
  {
   "cell_type": "code",
   "execution_count": 297,
   "id": "e2fdb988",
   "metadata": {},
   "outputs": [],
   "source": [
    "Car_name=pd.Series(Car_name)"
   ]
  },
  {
   "cell_type": "code",
   "execution_count": 298,
   "id": "b830a6f3",
   "metadata": {},
   "outputs": [
    {
     "data": {
      "text/plain": [
       "0                       De Tomaso P72\n",
       "1                   Ferrari LaFerrari\n",
       "2                       Pagani Huayra\n",
       "3                        McLaren Elva\n",
       "4                         Czinger 21C\n",
       "5                       Ferrari Monza\n",
       "6                  Gordon Murray T.33\n",
       "7                   Koenigsegg Gemera\n",
       "8                         Zenvo TSR-S\n",
       "9                  Hennessey Venom F5\n",
       "10                    Bentley Bacalar\n",
       "11      Hispano Suiza Carmen Boulogne\n",
       "12             Bentley Mulliner Batur\n",
       "13                       Deus Vayanne\n",
       "14                        SSC Tuatara\n",
       "15                        Lotus Evija\n",
       "16                Aston Martin Vulcan\n",
       "17                         Delage D12\n",
       "18                  McLaren Speedtail\n",
       "19                       Rimac Nevera\n",
       "20                      Pagani Utopia\n",
       "21               Pininfarina Battista\n",
       "22                  Ferrari FXX K Evo\n",
       "23                 Gordon Murray T.50\n",
       "24               Lamborghini Countach\n",
       "25           Mercedes-AMG Project One\n",
       "26                Aston Martin Victor\n",
       "27        Hennessey Venom F5 Roadster\n",
       "28                   Koenigsegg Jesko\n",
       "29              Aston Martin Valkyrie\n",
       "30          W Motors Lykan Hypersport\n",
       "31                      McLaren Solus\n",
       "32          Pagani Huayra Roadster BC\n",
       "33           Bugatti Chiron Pur Sport\n",
       "34                   Lamborghini Sian\n",
       "35                   Koenigsegg CC850\n",
       "36    Bugatti Chiron Super Sport 300+\n",
       "37                 Lamborghini Veneno\n",
       "38                     Bugatti Bolide\n",
       "39                    Bugatti Mistral\n",
       "40                Pagani Huayra Imola\n",
       "41                       Bugatti Divo\n",
       "42                SP Automotive Chaos\n",
       "43                   Pagani Codalunga\n",
       "44           Mercedes-Maybach Exelero\n",
       "45                 Bugatti Centodieci\n",
       "46            Bugatti Chiron Profilée\n",
       "47               Rolls-Royce Sweptail\n",
       "48           Bugatti La Voiture Noire\n",
       "49             Rolls-Royce Boat Tail*\n",
       "dtype: object"
      ]
     },
     "execution_count": 298,
     "metadata": {},
     "output_type": "execute_result"
    }
   ],
   "source": [
    "Car_name"
   ]
  },
  {
   "cell_type": "code",
   "execution_count": null,
   "id": "7cf8f244",
   "metadata": {},
   "outputs": [],
   "source": []
  }
 ],
 "metadata": {
  "kernelspec": {
   "display_name": "Python 3 (ipykernel)",
   "language": "python",
   "name": "python3"
  },
  "language_info": {
   "codemirror_mode": {
    "name": "ipython",
    "version": 3
   },
   "file_extension": ".py",
   "mimetype": "text/x-python",
   "name": "python",
   "nbconvert_exporter": "python",
   "pygments_lexer": "ipython3",
   "version": "3.9.12"
  }
 },
 "nbformat": 4,
 "nbformat_minor": 5
}
